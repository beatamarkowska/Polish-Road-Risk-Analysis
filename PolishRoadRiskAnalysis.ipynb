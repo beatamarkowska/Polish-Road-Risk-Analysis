{
 "cells": [
  {
   "cell_type": "markdown",
   "id": "0f012947-2f48-45be-9fd0-7858e43962f9",
   "metadata": {},
   "source": [
    "Reading and writing various data sources,\n",
    "Aggregating and analyzing raster and vector data,\n",
    "Calculating a basic risk score across several paramaters and at various scales,\n",
    "Visualizing analytical results."
   ]
  },
  {
   "cell_type": "code",
   "execution_count": 4,
   "id": "d2e09139-e063-469c-ae2b-69bd7f4f17eb",
   "metadata": {
    "execution": {
     "iopub.execute_input": "2025-05-02T14:15:55.114703Z",
     "iopub.status.busy": "2025-05-02T14:15:55.114466Z",
     "iopub.status.idle": "2025-05-02T14:16:21.462905Z",
     "shell.execute_reply": "2025-05-02T14:16:21.462320Z",
     "shell.execute_reply.started": "2025-05-02T14:15:55.114688Z"
    }
   },
   "outputs": [
    {
     "name": "stderr",
     "output_type": "stream",
     "text": [
      "Setting default log level to \"WARN\".\n",
      "To adjust logging level use sc.setLogLevel(newLevel). For SparkR, use setLogLevel(newLevel).\n",
      "                                                                                \r"
     ]
    },
    {
     "name": "stdout",
     "output_type": "stream",
     "text": [
      "CPU times: user 445 ms, sys: 50 ms, total: 495 ms\n",
      "Wall time: 26.3 s\n"
     ]
    }
   ],
   "source": [
    "%%time\n",
    "from sedona.spark import *\n",
    "from sedona.sql import st_functions as stf\n",
    "from sedona.sql import st_constructors as stc\n",
    "from sedona.sql import st_predicates as stp\n",
    "from pyspark.sql.functions import expr, col, count, isnan, when, explode,broadcast,min as spark_min, monotonically_increasing_id, year, lit, to_timestamp\n",
    "from pyspark.sql.window import Window\n",
    "\n",
    "import os\n",
    "\n",
    "\n",
    "\n",
    "config = SedonaContext.builder().\\\n",
    "     config(\"spark.hadoop.fs.s3a.bucket.wherobots-examples.aws.credentials.provider\",\n",
    "            \"org.apache.hadoop.fs.s3a.AnonymousAWSCredentialsProvider\").\\\n",
    "     getOrCreate()\n",
    "sedona = SedonaContext.create(config)"
   ]
  },
  {
   "cell_type": "markdown",
   "id": "9faadc31-a510-4de3-930b-c692efd894db",
   "metadata": {},
   "source": [
    "Data\n",
    "\n",
    "1.Overture Maps Foundation Layers\n",
    "Transportation\n",
    "Places\n",
    "Service Stations\n",
    "Housing\n",
    "Emergency Services\n",
    "Buildings\n",
    "\n",
    "2.European Commision\n",
    "River Flood Hazard Maps\n",
    "Landslide Risk"
   ]
  },
  {
   "cell_type": "markdown",
   "id": "c474d8fa-0f0c-41b0-bab0-75bc8e2bf088",
   "metadata": {},
   "source": [
    "Load Vector Assets"
   ]
  },
  {
   "cell_type": "code",
   "execution_count": 5,
   "id": "7d916ca9-11df-4dcf-ba6c-51d1406d7f75",
   "metadata": {
    "execution": {
     "iopub.execute_input": "2025-05-02T14:16:30.155961Z",
     "iopub.status.busy": "2025-05-02T14:16:30.155544Z",
     "iopub.status.idle": "2025-05-02T14:16:31.694920Z",
     "shell.execute_reply": "2025-05-02T14:16:31.694084Z",
     "shell.execute_reply.started": "2025-05-02T14:16:30.155942Z"
    }
   },
   "outputs": [],
   "source": [
    "pl_df= sedona.sql(f\"\"\"\n",
    "SELECT\n",
    "    geometry\n",
    "FROM \n",
    "    wherobots_open_data.overture_2024_07_22.divisions_division_area \n",
    "WHERE\n",
    "    country ='PL'\n",
    "AND\n",
    "    subtype = 'country'\n",
    "\n",
    " \"\"\")"
   ]
  },
  {
   "cell_type": "code",
   "execution_count": 6,
   "id": "24e509f2-cbf5-4279-9bec-6664976d08ab",
   "metadata": {
    "execution": {
     "iopub.execute_input": "2025-05-02T14:16:34.554419Z",
     "iopub.status.busy": "2025-05-02T14:16:34.554205Z",
     "iopub.status.idle": "2025-05-02T14:16:46.116272Z",
     "shell.execute_reply": "2025-05-02T14:16:46.115706Z",
     "shell.execute_reply.started": "2025-05-02T14:16:34.554405Z"
    }
   },
   "outputs": [
    {
     "name": "stderr",
     "output_type": "stream",
     "text": [
      "                                                                                \r"
     ]
    },
    {
     "name": "stdout",
     "output_type": "stream",
     "text": [
      "+--------------------+\n",
      "|            geometry|\n",
      "+--------------------+\n",
      "|POLYGON ((18.7776...|\n",
      "+--------------------+\n",
      "\n"
     ]
    }
   ],
   "source": [
    "pl_df.show()"
   ]
  },
  {
   "cell_type": "code",
   "execution_count": 7,
   "id": "e5258aae-872b-483e-8505-a05747e11861",
   "metadata": {
    "execution": {
     "iopub.execute_input": "2025-05-02T14:16:46.117700Z",
     "iopub.status.busy": "2025-05-02T14:16:46.117428Z",
     "iopub.status.idle": "2025-05-02T14:16:48.868542Z",
     "shell.execute_reply": "2025-05-02T14:16:48.867928Z",
     "shell.execute_reply.started": "2025-05-02T14:16:46.117678Z"
    }
   },
   "outputs": [
    {
     "name": "stderr",
     "output_type": "stream",
     "text": [
      "                                                                                \r"
     ]
    }
   ],
   "source": [
    "pl_geom_wkt = pl_df.collect()[0].geometry"
   ]
  },
  {
   "cell_type": "code",
   "execution_count": 8,
   "id": "e40002b5-a0b9-40d1-a54c-71d23d4d0669",
   "metadata": {
    "execution": {
     "iopub.execute_input": "2025-05-02T14:16:48.869744Z",
     "iopub.status.busy": "2025-05-02T14:16:48.869367Z",
     "iopub.status.idle": "2025-05-02T14:16:48.875677Z",
     "shell.execute_reply": "2025-05-02T14:16:48.875206Z",
     "shell.execute_reply.started": "2025-05-02T14:16:48.869721Z"
    }
   },
   "outputs": [
    {
     "data": {
      "text/plain": [
       "shapely.geometry.polygon.Polygon"
      ]
     },
     "execution_count": 8,
     "metadata": {},
     "output_type": "execute_result"
    }
   ],
   "source": [
    "type(pl_geom_wkt)"
   ]
  },
  {
   "cell_type": "code",
   "execution_count": 9,
   "id": "d8ec0c99-bb60-4583-8fa6-f1e138613c43",
   "metadata": {
    "execution": {
     "iopub.execute_input": "2025-05-02T14:16:48.876767Z",
     "iopub.status.busy": "2025-05-02T14:16:48.876510Z",
     "iopub.status.idle": "2025-05-02T14:16:52.974257Z",
     "shell.execute_reply": "2025-05-02T14:16:52.973744Z",
     "shell.execute_reply.started": "2025-05-02T14:16:48.876749Z"
    }
   },
   "outputs": [
    {
     "name": "stdout",
     "output_type": "stream",
     "text": [
      "User Guide: https://docs.kepler.gl/docs/keplergl-jupyter\n"
     ]
    },
    {
     "name": "stderr",
     "output_type": "stream",
     "text": [
      "                                                                                \r"
     ]
    },
    {
     "data": {
      "application/vnd.jupyter.widget-view+json": {
       "model_id": "ddb6f9de83fb4e4ca6c6f7d2a8134002",
       "version_major": 2,
       "version_minor": 0
      },
      "text/plain": [
       "KeplerGl(data={'PL': {'index': [0], 'columns': ['geometry'], 'data': [['POLYGON ((18.7776846000000006 49.68426…"
      ]
     },
     "execution_count": 9,
     "metadata": {},
     "output_type": "execute_result"
    }
   ],
   "source": [
    "kepler_map = SedonaKepler.create_map()\n",
    "SedonaKepler.add_df(kepler_map, pl_df, name=\"PL\")\n",
    "kepler_map"
   ]
  },
  {
   "cell_type": "markdown",
   "id": "4e6e33bb-a826-4638-a548-b133980cfff2",
   "metadata": {},
   "source": [
    "Change the number of partitions in a DataFrame to 12. This help evenly distribute data and improve parallel computation performance."
   ]
  },
  {
   "cell_type": "code",
   "execution_count": 13,
   "id": "ff426057-e93f-4390-89c9-46166bb7e5bc",
   "metadata": {
    "execution": {
     "iopub.execute_input": "2025-05-02T14:20:41.766420Z",
     "iopub.status.busy": "2025-05-02T14:20:41.766198Z",
     "iopub.status.idle": "2025-05-02T14:21:11.353896Z",
     "shell.execute_reply": "2025-05-02T14:21:11.353500Z",
     "shell.execute_reply.started": "2025-05-02T14:20:41.766406Z"
    }
   },
   "outputs": [
    {
     "name": "stderr",
     "output_type": "stream",
     "text": [
      "                                                                                \r"
     ]
    },
    {
     "name": "stdout",
     "output_type": "stream",
     "text": [
      "Emergency Services: 8741\n"
     ]
    },
    {
     "name": "stderr",
     "output_type": "stream",
     "text": [
      "                                                                                \r"
     ]
    },
    {
     "name": "stdout",
     "output_type": "stream",
     "text": [
      "Service Stations: 10720\n"
     ]
    },
    {
     "name": "stderr",
     "output_type": "stream",
     "text": [
      "                                                                                \r"
     ]
    },
    {
     "name": "stdout",
     "output_type": "stream",
     "text": [
      "Transportation: 2814\n"
     ]
    },
    {
     "name": "stderr",
     "output_type": "stream",
     "text": [
      "[Stage 33:==================================================>     (30 + 3) / 33]\r"
     ]
    },
    {
     "name": "stdout",
     "output_type": "stream",
     "text": [
      "Buildings: 1075939\n",
      "CPU times: user 135 ms, sys: 3.05 ms, total: 138 ms\n",
      "Wall time: 29.6 s\n"
     ]
    },
    {
     "name": "stderr",
     "output_type": "stream",
     "text": [
      "                                                                                \r"
     ]
    }
   ],
   "source": [
    "%%time\n",
    "# read Overture Maps Foundation table.\n",
    "pl_service_stations_df = sedona.table(\"\"\"wherobots_open_data.overture_2024_07_22.places_place\"\"\")\\\n",
    "                               .where(expr(f\"\"\"ST_INTERSECTS(geometry,ST_GEOMFROMWKT(\"{pl_geom_wkt}\"))\"\"\"))\\\n",
    "                               .where(\"\"\"categories.primary in ('truck_repair_and_services_for_businesses','truck_repair','transmission_repair',\n",
    "                                                                    'oil_change_station','brake_service_and_repair','automotive_services_and_repair',\n",
    "                                                                    'automotive_repair','auto_glass_service','auto_body_shop')\"\"\")\n",
    "\n",
    "pl_emergency_services_df  = sedona.table(\"\"\"wherobots_open_data.overture_2024_07_22.places_place\"\"\")\\\n",
    "                               .where(expr(f\"\"\"ST_INTERSECTS(geometry,ST_GEOMFROMWKT(\"{pl_geom_wkt}\"))\"\"\"))\\\n",
    "                               .where(\"\"\"categories.primary in ('law_enforcement','police_department','air_ambulance',\n",
    "                                                                'disaster_response_services','emergency_medicine','emergency_roadside_service',\n",
    "                                                                'emergency_room','fire_department','hospital','towing_service','urgent_care_clinic')\"\"\")\n",
    "\n",
    "pl_transportation_df = sedona.table(\"\"\"wherobots_open_data.overture_2024_07_22.transportation_segment\"\"\")\\\n",
    "                          .where(expr(f\"\"\"ST_INTERSECTS(geometry,ST_GEOMFROMWKT(\"{pl_geom_wkt}\"))\"\"\"))\\\n",
    "                          .where(expr(\"class = 'motorway'\"))\n",
    "\n",
    "pl_buildings_df = sedona.table(\"\"\"wherobots_open_data.overture_2024_07_22.buildings_building\"\"\")\\\n",
    "                     .where(expr(f\"\"\"ST_INTERSECTS(geometry,ST_GEOMFROMWKT(\"{pl_geom_wkt}\"))\"\"\"))\\\n",
    "                     .where(\"\"\"class in ('residential','apartments') \"\"\")\n",
    "\n",
    "\n",
    "\n",
    "# repartition, count and create temporary views\n",
    "pl_emergency_services_df = pl_emergency_services_df.repartition(12)\n",
    "print(f\"Emergency Services: {pl_emergency_services_df.count()}\")\n",
    "pl_emergency_services_df.createOrReplaceTempView(\"pl_emergency_services\")\n",
    "\n",
    "pl_service_stations_df = pl_service_stations_df.repartition(12)\n",
    "print(f\"Service Stations: {pl_service_stations_df.count()}\")\n",
    "pl_service_stations_df.createOrReplaceTempView(\"pl_service_stations\")\n",
    "\n",
    "pl_transportation_df = pl_transportation_df.repartition(12)\n",
    "print(f\"Transportation: {pl_transportation_df.count()}\")\n",
    "pl_transportation_df.createOrReplaceTempView(\"pl_transportation\")\n",
    "\n",
    "pl_buildings_df = pl_buildings_df.repartition(12)\n",
    "print(f\"Buildings: {pl_buildings_df.count()}\")\n",
    "pl_buildings_df.createOrReplaceTempView(\"pl_buildings\")"
   ]
  },
  {
   "cell_type": "markdown",
   "id": "6abff368-9e3b-456e-a4b0-eb186fc3a1ba",
   "metadata": {},
   "source": [
    "Load Raster Assets"
   ]
  },
  {
   "cell_type": "code",
   "execution_count": 14,
   "id": "eda259ab-73f4-4679-8e5f-ffd870045339",
   "metadata": {
    "execution": {
     "iopub.execute_input": "2025-05-02T14:21:18.466535Z",
     "iopub.status.busy": "2025-05-02T14:21:18.466328Z",
     "iopub.status.idle": "2025-05-02T14:21:18.470458Z",
     "shell.execute_reply": "2025-05-02T14:21:18.469923Z",
     "shell.execute_reply.started": "2025-05-02T14:21:18.466520Z"
    }
   },
   "outputs": [
    {
     "name": "stdout",
     "output_type": "stream",
     "text": [
      "CPU times: user 3 μs, sys: 0 ns, total: 3 μs\n",
      "Wall time: 5.48 μs\n"
     ]
    }
   ],
   "source": [
    "%%time\n",
    "# Read directory of Flood Risk \n",
    "flood_layers_dir = f\"\"\"s3://wherobots-examples/data/examples/global_flood_hazard_layers/europe\"\"\"\n"
   ]
  },
  {
   "cell_type": "code",
   "execution_count": 15,
   "id": "3718405b-9d2f-47bb-bcc5-9e8cdafd505e",
   "metadata": {
    "execution": {
     "iopub.execute_input": "2025-05-02T14:21:20.243733Z",
     "iopub.status.busy": "2025-05-02T14:21:20.243487Z",
     "iopub.status.idle": "2025-05-02T14:21:20.649219Z",
     "shell.execute_reply": "2025-05-02T14:21:20.648814Z",
     "shell.execute_reply.started": "2025-05-02T14:21:20.243719Z"
    }
   },
   "outputs": [],
   "source": [
    "# Create a DataFrame then temporary view containing raster data\n",
    "flood_layers_df = sedona.read.format(\"binaryFile\")\\\n",
    "    .option(\"pathGlobFilter\", \"*.tif\")\\\n",
    "    .option(\"recursiveFileLookup\", \"true\")\\\n",
    "    .load(flood_layers_dir).drop(\"content\").withColumn(\"rast\", expr(\"RS_FromPath(path)\"))"
   ]
  },
  {
   "cell_type": "markdown",
   "id": "98203676-2834-4050-b5bc-b8cabf539915",
   "metadata": {},
   "source": [
    "1️⃣ Reading raster files (.tif)\n",
    "\n",
    "flood_layers_df = sedona.read.format(\"binaryFile\")\n",
    "binaryFile → loads binary files (e.g. images, rasters).\n",
    "\n",
    "2️⃣ Filtering GeoTIFF files (*.tif)\n",
    "\n",
    ".option(\"pathGlobFilter\", \"*.tif\")\n",
    "Downloads only files with the .tif extension.\n",
    "\n",
    "3️⃣ Recursive folder search\n",
    "\n",
    ".option(\"recursiveFileLookup\", \"true\")\n",
    "Searches for .tif files also in flood_layers_dir subfolders.\n",
    "\n",
    "4️⃣ Loading files and removing the content column\n",
    "\n",
    ".load(flood_layers_dir).drop(\"content\") content contains binary data of the file, which is not needed.\n",
    "\n",
    "5️⃣ Converting a file path to a raster\n",
    "\n",
    ".withColumn(\"rast\", expr(\"RS_FromPath(path)\")) RS_FromPath(path) → A Sedona function that converts a .tif file path to a raster object."
   ]
  },
  {
   "cell_type": "code",
   "execution_count": 16,
   "id": "b45c26e7-3840-43b1-bbd9-d2d6fa87a034",
   "metadata": {
    "execution": {
     "iopub.execute_input": "2025-05-02T14:21:25.697965Z",
     "iopub.status.busy": "2025-05-02T14:21:25.697676Z",
     "iopub.status.idle": "2025-05-02T14:21:27.444115Z",
     "shell.execute_reply": "2025-05-02T14:21:27.443456Z",
     "shell.execute_reply.started": "2025-05-02T14:21:25.697950Z"
    }
   },
   "outputs": [
    {
     "name": "stderr",
     "output_type": "stream",
     "text": [
      "[Stage 40:===========================================>              (3 + 1) / 4]\r"
     ]
    },
    {
     "name": "stdout",
     "output_type": "stream",
     "text": [
      "+--------------------+-------------------+---------+--------------------+\n",
      "|                path|   modificationTime|   length|                rast|\n",
      "+--------------------+-------------------+---------+--------------------+\n",
      "|s3://wherobots-ex...|2024-09-03 17:58:04|425584926|LazyLoadOutDbGrid...|\n",
      "|s3://wherobots-ex...|2024-09-03 17:57:49|408248797|LazyLoadOutDbGrid...|\n",
      "|s3://wherobots-ex...|2024-09-03 17:57:49|394744774|LazyLoadOutDbGrid...|\n",
      "|s3://wherobots-ex...|2024-09-03 17:58:06|387654925|LazyLoadOutDbGrid...|\n",
      "|s3://wherobots-ex...|2024-09-03 17:58:06|378680038|LazyLoadOutDbGrid...|\n",
      "|s3://wherobots-ex...|2024-09-03 17:58:03|372259813|LazyLoadOutDbGrid...|\n",
      "|s3://wherobots-ex...|2024-09-03 17:57:51|364481691|LazyLoadOutDbGrid...|\n",
      "|s3://wherobots-ex...|2024-09-03 17:57:57|353070088|LazyLoadOutDbGrid...|\n",
      "|s3://wherobots-ex...|2024-09-03 17:57:49|328471548|LazyLoadOutDbGrid...|\n",
      "+--------------------+-------------------+---------+--------------------+\n",
      "\n"
     ]
    },
    {
     "name": "stderr",
     "output_type": "stream",
     "text": [
      "                                                                                \r"
     ]
    }
   ],
   "source": [
    "flood_layers_df.show()"
   ]
  },
  {
   "cell_type": "markdown",
   "id": "4db091e3-7bf1-4c00-a34e-fa11e1cdabac",
   "metadata": {},
   "source": [
    "The table contains the following columns:\n",
    "\n",
    "path – the path to the file that is stored on the cloud resource, in S3 (e.g. s3://wherobots-ex...). It contains the full location of the file on the cloud drive.\n",
    "\n",
    "modificationTime – the date and time of the last modification of the file. The date format is YYYY-MM-DD HH:mm:ss (e.g. 2024-09-03 17:58:04).\n",
    "\n",
    "length – the size of the file in bytes \n",
    "rast – a raster object stored in memory. The values ​​in this column are represented by an object of the LazyLoadOutDbGrid type, which is specific to Sedona technology and contains raster data in the form of delayed loading. In this case, it is a representation of raster data (e.g. map, image) containing geolocated information."
   ]
  },
  {
   "cell_type": "code",
   "execution_count": 17,
   "id": "e8ae9de5-600e-4a3c-8c90-8bd042d526d3",
   "metadata": {
    "execution": {
     "iopub.execute_input": "2025-05-02T14:21:31.827558Z",
     "iopub.status.busy": "2025-05-02T14:21:31.827364Z",
     "iopub.status.idle": "2025-05-02T14:21:32.018931Z",
     "shell.execute_reply": "2025-05-02T14:21:32.018290Z",
     "shell.execute_reply.started": "2025-05-02T14:21:31.827544Z"
    }
   },
   "outputs": [
    {
     "name": "stdout",
     "output_type": "stream",
     "text": [
      "+--------------------+-------------------+---------+--------------------+\n",
      "|                path|   modificationTime|   length|                rast|\n",
      "+--------------------+-------------------+---------+--------------------+\n",
      "|s3://wherobots-ex...|2024-09-03 17:58:04|425584926|LazyLoadOutDbGrid...|\n",
      "|s3://wherobots-ex...|2024-09-03 17:57:49|408248797|LazyLoadOutDbGrid...|\n",
      "|s3://wherobots-ex...|2024-09-03 17:57:49|394744774|LazyLoadOutDbGrid...|\n",
      "|s3://wherobots-ex...|2024-09-03 17:58:06|387654925|LazyLoadOutDbGrid...|\n",
      "|s3://wherobots-ex...|2024-09-03 17:58:06|378680038|LazyLoadOutDbGrid...|\n",
      "|s3://wherobots-ex...|2024-09-03 17:58:03|372259813|LazyLoadOutDbGrid...|\n",
      "|s3://wherobots-ex...|2024-09-03 17:57:51|364481691|LazyLoadOutDbGrid...|\n",
      "|s3://wherobots-ex...|2024-09-03 17:57:57|353070088|LazyLoadOutDbGrid...|\n",
      "|s3://wherobots-ex...|2024-09-03 17:57:49|328471548|LazyLoadOutDbGrid...|\n",
      "+--------------------+-------------------+---------+--------------------+\n",
      "\n"
     ]
    }
   ],
   "source": [
    "flood_layers_df.createOrReplaceTempView(\"flood_raster\")\n",
    "flood_layers_df.show()"
   ]
  },
  {
   "cell_type": "code",
   "execution_count": 18,
   "id": "b8b98fc4-f899-4fb3-b972-d330d3220432",
   "metadata": {
    "execution": {
     "iopub.execute_input": "2025-05-02T14:21:35.844081Z",
     "iopub.status.busy": "2025-05-02T14:21:35.843877Z",
     "iopub.status.idle": "2025-05-02T14:21:36.440780Z",
     "shell.execute_reply": "2025-05-02T14:21:36.440065Z",
     "shell.execute_reply.started": "2025-05-02T14:21:35.844067Z"
    }
   },
   "outputs": [],
   "source": [
    "flood_raster_tiled= sedona.sql(f\"\"\"\n",
    "SELECT \n",
    "    RS_TileExplode(rast, 256, 256) AS (x, y, tile), \n",
    "    REVERSE(SPLIT(RS_BandPath(rast), '/'))[0] AS path,\n",
    "    int(REPLACE(SPLIT(REVERSE(SPLIT(RS_BandPath(rast), '/'))[0],'_')[1],'RP','')) as event\n",
    "FROM \n",
    "    flood_raster\n",
    "WHERE \n",
    "    RS_Intersects(rast,ST_GEOMFROMWKT(\"{pl_geom_wkt}\"))\n",
    "AND\n",
    "    int(REPLACE(SPLIT(REVERSE(SPLIT(RS_BandPath(rast), '/'))[0],'_')[1],'RP',''))  in (10, 50, 100)\"\"\")"
   ]
  },
  {
   "cell_type": "code",
   "execution_count": 19,
   "id": "5cd728a8-6e96-48f6-a74e-a36fec171ef7",
   "metadata": {
    "execution": {
     "iopub.execute_input": "2025-05-02T14:21:38.759754Z",
     "iopub.status.busy": "2025-05-02T14:21:38.759465Z",
     "iopub.status.idle": "2025-05-02T14:21:42.703243Z",
     "shell.execute_reply": "2025-05-02T14:21:42.702664Z",
     "shell.execute_reply.started": "2025-05-02T14:21:38.759739Z"
    }
   },
   "outputs": [
    {
     "name": "stderr",
     "output_type": "stream",
     "text": [
      "[Stage 45:===================================================>      (8 + 1) / 9]\r"
     ]
    },
    {
     "name": "stdout",
     "output_type": "stream",
     "text": [
      "+---+---+--------------------+--------------------+-----+\n",
      "|  x|  y|                tile|                path|event|\n",
      "+---+---+--------------------+--------------------+-----+\n",
      "| 18|134|OutDbGridCoverage...|Europe_RP50_fille...|   50|\n",
      "| 38| 14|OutDbGridCoverage...|Europe_RP50_fille...|   50|\n",
      "|422|187|OutDbGridCoverage...|Europe_RP50_fille...|   50|\n",
      "|264| 38|OutDbGridCoverage...|Europe_RP50_fille...|   50|\n",
      "|208|116|OutDbGridCoverage...|Europe_RP50_fille...|   50|\n",
      "|302|186|OutDbGridCoverage...|Europe_RP50_fille...|   50|\n",
      "|321|183|OutDbGridCoverage...|Europe_RP50_fille...|   50|\n",
      "|203|103|OutDbGridCoverage...|Europe_RP50_fille...|   50|\n",
      "|247|163|OutDbGridCoverage...|Europe_RP50_fille...|   50|\n",
      "|269|134|OutDbGridCoverage...|Europe_RP50_fille...|   50|\n",
      "| 74|162|OutDbGridCoverage...|Europe_RP50_fille...|   50|\n",
      "|340| 17|OutDbGridCoverage...|Europe_RP50_fille...|   50|\n",
      "| 35|107|OutDbGridCoverage...|Europe_RP50_fille...|   50|\n",
      "|415| 84|OutDbGridCoverage...|Europe_RP50_fille...|   50|\n",
      "| 34| 67|OutDbGridCoverage...|Europe_RP50_fille...|   50|\n",
      "|364| 88|OutDbGridCoverage...|Europe_RP50_fille...|   50|\n",
      "|409|110|OutDbGridCoverage...|Europe_RP50_fille...|   50|\n",
      "|256|  6|OutDbGridCoverage...|Europe_RP50_fille...|   50|\n",
      "|358|153|OutDbGridCoverage...|Europe_RP50_fille...|   50|\n",
      "| 57| 29|OutDbGridCoverage...|Europe_RP50_fille...|   50|\n",
      "+---+---+--------------------+--------------------+-----+\n",
      "only showing top 20 rows\n",
      "\n"
     ]
    },
    {
     "name": "stderr",
     "output_type": "stream",
     "text": [
      "                                                                                \r"
     ]
    }
   ],
   "source": [
    "flood_raster_tiled = flood_raster_tiled.repartition(12)\n",
    "flood_raster_tiled.createOrReplaceTempView(\"flood_raster_tiled\")\n",
    "flood_raster_tiled.show()"
   ]
  },
  {
   "cell_type": "code",
   "execution_count": 20,
   "id": "0dded33c-8a45-45d1-985f-2eacdacb8c7e",
   "metadata": {
    "execution": {
     "iopub.execute_input": "2025-05-02T14:21:42.704267Z",
     "iopub.status.busy": "2025-05-02T14:21:42.704050Z",
     "iopub.status.idle": "2025-05-02T14:21:43.749597Z",
     "shell.execute_reply": "2025-05-02T14:21:43.748989Z",
     "shell.execute_reply.started": "2025-05-02T14:21:42.704246Z"
    }
   },
   "outputs": [
    {
     "name": "stdout",
     "output_type": "stream",
     "text": [
      "+--------------------+-------------------+----------+--------------------+\n",
      "|                path|   modificationTime|    length|                rast|\n",
      "+--------------------+-------------------+----------+--------------------+\n",
      "|s3://wherobots-ex...|2024-09-03 18:02:44|3494856744|LazyLoadOutDbGrid...|\n",
      "+--------------------+-------------------+----------+--------------------+\n",
      "\n",
      "+---+---+--------------------+--------------------+\n",
      "|  x|  y|                tile|                path|\n",
      "+---+---+--------------------+--------------------+\n",
      "| 68| 63|OutDbGridCoverage...|elsus_v2_4326_cog...|\n",
      "|102| 10|OutDbGridCoverage...|elsus_v2_4326_cog...|\n",
      "|110|  3|OutDbGridCoverage...|elsus_v2_4326_cog...|\n",
      "| 65| 48|OutDbGridCoverage...|elsus_v2_4326_cog...|\n",
      "| 17| 45|OutDbGridCoverage...|elsus_v2_4326_cog...|\n",
      "| 50| 49|OutDbGridCoverage...|elsus_v2_4326_cog...|\n",
      "| 49| 16|OutDbGridCoverage...|elsus_v2_4326_cog...|\n",
      "| 63| 56|OutDbGridCoverage...|elsus_v2_4326_cog...|\n",
      "| 31| 31|OutDbGridCoverage...|elsus_v2_4326_cog...|\n",
      "| 96| 15|OutDbGridCoverage...|elsus_v2_4326_cog...|\n",
      "| 84| 36|OutDbGridCoverage...|elsus_v2_4326_cog...|\n",
      "| 58| 56|OutDbGridCoverage...|elsus_v2_4326_cog...|\n",
      "| 46| 23|OutDbGridCoverage...|elsus_v2_4326_cog...|\n",
      "| 84| 12|OutDbGridCoverage...|elsus_v2_4326_cog...|\n",
      "| 49|  2|OutDbGridCoverage...|elsus_v2_4326_cog...|\n",
      "| 86| 25|OutDbGridCoverage...|elsus_v2_4326_cog...|\n",
      "| 85| 66|OutDbGridCoverage...|elsus_v2_4326_cog...|\n",
      "| 54| 55|OutDbGridCoverage...|elsus_v2_4326_cog...|\n",
      "| 93| 78|OutDbGridCoverage...|elsus_v2_4326_cog...|\n",
      "| 55| 31|OutDbGridCoverage...|elsus_v2_4326_cog...|\n",
      "+---+---+--------------------+--------------------+\n",
      "only showing top 20 rows\n",
      "\n",
      "CPU times: user 25.2 ms, sys: 385 μs, total: 25.6 ms\n",
      "Wall time: 1.04 s\n"
     ]
    }
   ],
   "source": [
    "%%time\n",
    "# Read the landslide risk tif\n",
    "landslide_risk_tif = f\"\"\"s3://wherobots-examples/data/examples/EuropeanLandslideSusceptibilityMap/elsus_v2_4326_cog.tif\"\"\"\n",
    "# 0 (-2147483647) = no data; 1 = very low; 2 = low; 3 = moderate; 4 = high; 5 = very high\n",
    "\n",
    "# Create a DataFrame then temporary view containing raster data\n",
    "landslide_risk_df = sedona.read.format(\"binaryFile\")\\\n",
    "    .load(landslide_risk_tif).drop(\"content\").withColumn(\"rast\", expr(\"RS_FromPath(path)\"))\n",
    "\n",
    "landslide_risk_df.createOrReplaceTempView(\"land_slide_risk_raster\")\n",
    "landslide_risk_df.show()\n",
    "# tile the raster into 256x256 images and save as a temporary view \n",
    "landslide_risk_tiled_df= sedona.sql(f\"\"\"\n",
    "SELECT \n",
    "    RS_TileExplode(rast, 256, 256) AS (x, y, tile), \n",
    "    REVERSE(SPLIT(RS_BandPath(rast), '/'))[0] AS path \n",
    "FROM \n",
    "    land_slide_risk_raster\n",
    "WHERE \n",
    "    RS_Intersects(rast,ST_GEOMFROMWKT(\"{pl_geom_wkt}\"))\n",
    "\"\"\")\n",
    "landslide_risk_tiled_df= landslide_risk_tiled_df.repartition(12)\n",
    "landslide_risk_tiled_df.createOrReplaceTempView(\"land_slide_risk_tiled\")\n",
    "landslide_risk_tiled_df.show()"
   ]
  },
  {
   "cell_type": "markdown",
   "id": "15ddf201-a643-497a-8146-e18f1bb49f22",
   "metadata": {},
   "source": [
    "The first step in the analysis process is to create an H3 hexagon grid over our road network. We use H3 level 6, each hexagon is about 36 km2, and each edge (and the distance from the center to any vertex) is 3.7 km. Caching (for faster access), repartitioning (for better layout), and creating a temporary view (for reuse in spatialSQL)."
   ]
  },
  {
   "cell_type": "markdown",
   "id": "acaa8f72-bd5b-4d60-9235-13c1c415ebbe",
   "metadata": {},
   "source": [
    "Creating a transportation risk index using H3 Hex bins as our mapping unit.\n",
    "1.Isolate the transportation cooridors of Interest\n",
    "2.Generate H3 hex bin map based on the intersection of these coordors\n",
    "3.Engineer features based spatial relationships and add them to the H3 hex bin\n",
    "4.Normalize feartures from 0-1 and then weight our features\n",
    "5.Calcualte final risk score"
   ]
  },
  {
   "cell_type": "code",
   "execution_count": null,
   "id": "61d5eafc-47b2-4d50-96af-78fcd58f1077",
   "metadata": {},
   "outputs": [],
   "source": [
    "Creating hexagons (H3 cells) in spatial analysis has several key advantages, especially when dealing with the analysis of geographic and spatial data. In this case, hexagons (H3 cells) are used to better map, analyze, and aggregate data in a geographic context. Here are some reasons why H3 hexagons are used:\n",
    "\n",
    "1. Regularity and uniformity of coverage\n",
    "H3 is a cell system based on spherical hexagons that provide uniform coverage of the earth's surface, without the so-called geographic distortions that can occur in traditional rectangular grids (e.g. in cartographic projections).\n",
    "\n",
    "Instead of using rectangular grids that can have irregularities in different latitudes (e.g. distortions near the poles), H3 cells are perfectly even and have the same dimensions in every part of the map.\n",
    "\n",
    "2. Optimization of spatial computations\n",
    "H3 cells allow for more efficient spatial processing. Using hexagons as spatial units facilitates various operations, such as:\n",
    "\n",
    "Calculating distances,\n",
    "\n",
    "Aggregating data (e.g. calculating average values within a cell),\n",
    "\n",
    "Spatial joins (e.g. identifying which areas are adjacent to each other).\n",
    "\n",
    "3. Precision and scalability\n",
    "Scalability: H3 allows creation cells at different levels of resolution, from larger cells (which cover large areas) to very small cells (which are ideal for very precise analyses in small areas). The resolution can be controlled using the hex_scale variable.\n",
    "\n",
    "Precision: Using H3, you can perform more detailed spatial analyses because each cell covers a precisely defined geographic area. Cells can be used to monitor, analyze, or visualize data at different levels of detail.\n",
    "\n",
    "4. Ease of data aggregation\n",
    "In traditional rectangular grid systems, it can be more difficult to perform data aggregations (e.g. average speed within a given area) due to the irregularities in the shape of the cells. The hexagonal cells of H3 facilitate such calculations because their shape makes neighboring cells similar in size and shape, which makes them easier to aggregate.\n",
    "\n",
    "5. Better coverage of spatial data\n",
    "When dealing with spatial data analysis such as roads, point hazards (e.g. flood risk), road accidents, landslides, etc., H3 provides the ability to create a uniform spatial structure where each point and area is assigned to a specific cell.\n",
    "\n",
    "This makes it easier to perform area-based analyses such as risk assessments (e.g. accident risk depending on a road) or flood risk assessments within a given cell.\n",
    "\n",
    "6. Efficiency in data processing\n",
    "Using H3, data is processed in a more optimized way and can be parallelized more easily in distributed systems such as Apache Spark. H3 cells are well suited for parallel and distributed computing because they allow data to be divided in a way that is easy to process on multiple machines.\n",
    "\n",
    "7. Analysis in the context of networks (e.g. roads)\n",
    "For roads and other transport networks, H3 cells allow for easy mapping of entire networks over a geographical area. It is easy to determine which roads or points are close to each other (e.g. in the case of traffic speed or accident risk analysis)."
   ]
  },
  {
   "cell_type": "markdown",
   "id": "1f3121e1-e494-424b-bf16-0e26427b0564",
   "metadata": {},
   "source": [
    "Creating H3 hexagons in spatial analysis enables:\n",
    "\n",
    "Precise mapping and representation of geographic areas.\n",
    "\n",
    "Efficient spatial operations (aggregation, joins, distance calculations).\n",
    "\n",
    "Easier management of spatial data in distributed systems (e.g. Apache Spark).\n",
    "\n",
    "Improved performance in calculations and analyses, especially with large data sets.\n"
   ]
  },
  {
   "cell_type": "code",
   "execution_count": 21,
   "id": "d6396234-24b2-4ab9-97b6-326fb16d0698",
   "metadata": {
    "execution": {
     "iopub.execute_input": "2025-05-02T14:22:07.994638Z",
     "iopub.status.busy": "2025-05-02T14:22:07.994443Z",
     "iopub.status.idle": "2025-05-02T14:22:08.072358Z",
     "shell.execute_reply": "2025-05-02T14:22:08.071803Z",
     "shell.execute_reply.started": "2025-05-02T14:22:07.994625Z"
    }
   },
   "outputs": [
    {
     "name": "stdout",
     "output_type": "stream",
     "text": [
      "CPU times: user 2.94 ms, sys: 349 μs, total: 3.29 ms\n",
      "Wall time: 73 ms\n"
     ]
    }
   ],
   "source": [
    "%%time\n",
    "hex_scale= 6\n",
    "road_hex = sedona.sql(f\"\"\" \n",
    "WITH h3_ids AS (SELECT \n",
    "   DISTINCT EXPLODE\n",
    "               (\n",
    "                   ST_H3CellIDs(geometry, {hex_scale}, true)\n",
    "               ) AS h3 \n",
    "FROM \n",
    "pl_transportation )\n",
    "\n",
    "\n",
    "SELECT \n",
    "    h3,\n",
    "    EXPLODE (ST_H3ToGeom(ARRAY(h3))) AS hex_geometry\n",
    "FROM \n",
    "    h3_ids\n",
    "\"\"\")\n",
    "road_hex = road_hex.repartition(12)\n",
    "road_hex.createOrReplaceTempView(\"hex_bins_d\")"
   ]
  },
  {
   "cell_type": "code",
   "execution_count": 41,
   "id": "9f106c79-9242-4126-993b-d846f0246dab",
   "metadata": {
    "execution": {
     "iopub.execute_input": "2025-05-02T13:16:35.706125Z",
     "iopub.status.busy": "2025-05-02T13:16:35.705850Z",
     "iopub.status.idle": "2025-05-02T13:16:42.757542Z",
     "shell.execute_reply": "2025-05-02T13:16:42.757018Z",
     "shell.execute_reply.started": "2025-05-02T13:16:35.706110Z"
    }
   },
   "outputs": [
    {
     "name": "stdout",
     "output_type": "stream",
     "text": [
      "User Guide: https://docs.kepler.gl/docs/keplergl-jupyter\n"
     ]
    },
    {
     "name": "stderr",
     "output_type": "stream",
     "text": [
      "                                                                                \r"
     ]
    },
    {
     "data": {
      "application/vnd.jupyter.widget-view+json": {
       "model_id": "d1b0e16382e2485687eadb8d77164f5f",
       "version_major": 2,
       "version_minor": 0
      },
      "text/plain": [
       "KeplerGl(data={'Hiking Trails': {'index': [0, 1, 2, 3, 4, 5, 6, 7, 8, 9, 10, 11, 12, 13, 14, 15, 16, 17, 18, 1…"
      ]
     },
     "execution_count": 41,
     "metadata": {},
     "output_type": "execute_result"
    }
   ],
   "source": [
    "SedonaKepler.create_map(road_hex, \"Hiking Trails\")"
   ]
  },
  {
   "cell_type": "code",
   "execution_count": 22,
   "id": "dbb1120c-86db-481c-a959-b93d6d5602fe",
   "metadata": {
    "execution": {
     "iopub.execute_input": "2025-05-02T14:22:14.610897Z",
     "iopub.status.busy": "2025-05-02T14:22:14.609844Z",
     "iopub.status.idle": "2025-05-02T14:22:22.374344Z",
     "shell.execute_reply": "2025-05-02T14:22:22.373864Z",
     "shell.execute_reply.started": "2025-05-02T14:22:14.610875Z"
    }
   },
   "outputs": [
    {
     "name": "stderr",
     "output_type": "stream",
     "text": [
      "                                                                                \r"
     ]
    },
    {
     "data": {
      "text/plain": [
       "377"
      ]
     },
     "execution_count": 22,
     "metadata": {},
     "output_type": "execute_result"
    }
   ],
   "source": [
    "road_hex.count()"
   ]
  },
  {
   "cell_type": "code",
   "execution_count": 23,
   "id": "41d52fa3-bba1-4ba1-9c54-e172ff182489",
   "metadata": {
    "execution": {
     "iopub.execute_input": "2025-05-02T14:22:22.375454Z",
     "iopub.status.busy": "2025-05-02T14:22:22.375231Z",
     "iopub.status.idle": "2025-05-02T14:22:28.368869Z",
     "shell.execute_reply": "2025-05-02T14:22:28.368248Z",
     "shell.execute_reply.started": "2025-05-02T14:22:22.375435Z"
    }
   },
   "outputs": [
    {
     "name": "stderr",
     "output_type": "stream",
     "text": [
      "[Stage 67:================================================>       (19 + 3) / 22]\r"
     ]
    },
    {
     "name": "stdout",
     "output_type": "stream",
     "text": [
      "+------------------+--------------------+\n",
      "|                h3|        hex_geometry|\n",
      "+------------------+--------------------+\n",
      "|604012742961004543|POLYGON ((15.9738...|\n",
      "|604012398558314495|POLYGON ((19.4787...|\n",
      "|604012531970736127|POLYGON ((18.6985...|\n",
      "+------------------+--------------------+\n",
      "only showing top 3 rows\n",
      "\n"
     ]
    },
    {
     "name": "stderr",
     "output_type": "stream",
     "text": [
      "                                                                                \r"
     ]
    }
   ],
   "source": [
    "road_hex.show(3)"
   ]
  },
  {
   "cell_type": "markdown",
   "id": "73a4e268-5508-41aa-a91d-dc1cd79ca920",
   "metadata": {},
   "source": [
    "Join the max speed limit from road network to out hexagons.\n",
    "Left join to retain all mapping units and the join is predicated on the spatial relationship \"Intersects\".\n",
    "Again repartition and create a temp view."
   ]
  },
  {
   "cell_type": "code",
   "execution_count": 24,
   "id": "9b89e898-6b62-449c-8bae-04bfdec62653",
   "metadata": {
    "execution": {
     "iopub.execute_input": "2025-05-02T14:22:31.124488Z",
     "iopub.status.busy": "2025-05-02T14:22:31.123305Z",
     "iopub.status.idle": "2025-05-02T14:22:38.131599Z",
     "shell.execute_reply": "2025-05-02T14:22:38.131046Z",
     "shell.execute_reply.started": "2025-05-02T14:22:31.124458Z"
    }
   },
   "outputs": [
    {
     "name": "stderr",
     "output_type": "stream",
     "text": [
      "[Stage 77:==================================================>     (20 + 2) / 22]\r"
     ]
    },
    {
     "name": "stdout",
     "output_type": "stream",
     "text": [
      "CPU times: user 8.75 ms, sys: 0 ns, total: 8.75 ms\n",
      "Wall time: 7 s\n"
     ]
    },
    {
     "name": "stderr",
     "output_type": "stream",
     "text": [
      "                                                                                \r"
     ]
    },
    {
     "data": {
      "text/plain": [
       "377"
      ]
     },
     "execution_count": 24,
     "metadata": {},
     "output_type": "execute_result"
    }
   ],
   "source": [
    "%%time\n",
    "# 13 s\n",
    "hex_scale= 6\n",
    "road_speed_hex = sedona.sql(f\"\"\" \n",
    "SELECT\n",
    "    FIRST(ARRAY_MAX(t2.speed_limits.max_speed.value)) AS speed_limit,\n",
    "    FIRST(t1.hex_geometry) AS geometry,\n",
    "    t1.h3\n",
    "FROM \n",
    "    hex_bins_d t1\n",
    "LEFT JOIN \n",
    "    pl_transportation t2\n",
    "ON\n",
    "    ST_INTERSECTS(t1.hex_geometry, t2.geometry)\n",
    "GROUP BY \n",
    "    t1.h3\n",
    "\"\"\")\n",
    "road_speed_hex = road_speed_hex.repartition(12)\n",
    "road_speed_hex.createOrReplaceTempView(\"road_speed_hex\")\n",
    "road_speed_hex.count()"
   ]
  },
  {
   "cell_type": "code",
   "execution_count": 45,
   "id": "4bd8dbb2-8c31-4b1d-b5c0-7213fead2f19",
   "metadata": {
    "execution": {
     "iopub.execute_input": "2025-05-02T13:17:29.028112Z",
     "iopub.status.busy": "2025-05-02T13:17:29.027865Z",
     "iopub.status.idle": "2025-05-02T13:17:39.877479Z",
     "shell.execute_reply": "2025-05-02T13:17:39.876902Z",
     "shell.execute_reply.started": "2025-05-02T13:17:29.028097Z"
    }
   },
   "outputs": [
    {
     "name": "stderr",
     "output_type": "stream",
     "text": [
      "                                                                                \r"
     ]
    },
    {
     "name": "stdout",
     "output_type": "stream",
     "text": [
      "+-----------+--------------------+------------------+\n",
      "|speed_limit|            geometry|                h3|\n",
      "+-----------+--------------------+------------------+\n",
      "|        140|POLYGON ((15.5126...|604012733699981311|\n",
      "|        140|POLYGON ((22.3708...|604013109778055167|\n",
      "|        140|POLYGON ((18.4898...|604012552640266239|\n",
      "|        140|POLYGON ((23.1164...|604013119307513855|\n",
      "|        140|POLYGON ((18.3677...|604012524186107903|\n",
      "|        140|POLYGON ((15.4080...|604012733834199039|\n",
      "|        140|POLYGON ((14.9898...|604012783628976127|\n",
      "|        140|POLYGON ((16.2677...|604012626594234367|\n",
      "|        140|POLYGON ((19.6475...|604033363367428095|\n",
      "|        140|POLYGON ((17.6502...|604012573041360895|\n",
      "|         70|POLYGON ((22.7627...|604013120112820223|\n",
      "|        140|POLYGON ((21.9543...|604012891674247167|\n",
      "|        140|POLYGON ((19.2100...|604012411577434111|\n",
      "|       NULL|POLYGON ((17.6293...|604012710346096639|\n",
      "|        140|POLYGON ((20.8522...|604013037703135231|\n",
      "|        140|POLYGON ((19.0138...|604012534923526143|\n",
      "|        140|POLYGON ((19.2198...|604012423925465087|\n",
      "|        140|POLYGON ((22.3708...|604013105617305599|\n",
      "|        140|POLYGON ((14.9695...|604029455215624191|\n",
      "|        140|POLYGON ((20.1697...|604033373702193151|\n",
      "+-----------+--------------------+------------------+\n",
      "only showing top 20 rows\n",
      "\n"
     ]
    }
   ],
   "source": [
    "road_speed_hex.show()"
   ]
  },
  {
   "cell_type": "code",
   "execution_count": 25,
   "id": "df5c649c-8a1e-4196-8162-78bbe922e51f",
   "metadata": {
    "execution": {
     "iopub.execute_input": "2025-05-02T14:22:42.243917Z",
     "iopub.status.busy": "2025-05-02T14:22:42.243705Z",
     "iopub.status.idle": "2025-05-02T14:22:42.247857Z",
     "shell.execute_reply": "2025-05-02T14:22:42.247424Z",
     "shell.execute_reply.started": "2025-05-02T14:22:42.243901Z"
    }
   },
   "outputs": [
    {
     "name": "stdout",
     "output_type": "stream",
     "text": [
      "root\n",
      " |-- speed_limit: integer (nullable = true)\n",
      " |-- geometry: geometry (nullable = true)\n",
      " |-- h3: long (nullable = true)\n",
      "\n"
     ]
    }
   ],
   "source": [
    "road_speed_hex.printSchema()"
   ]
  },
  {
   "cell_type": "code",
   "execution_count": 48,
   "id": "670bc7c2-7530-4ae8-b532-996827f6abaa",
   "metadata": {
    "execution": {
     "iopub.execute_input": "2025-05-02T13:18:12.378453Z",
     "iopub.status.busy": "2025-05-02T13:18:12.378242Z",
     "iopub.status.idle": "2025-05-02T13:18:23.191007Z",
     "shell.execute_reply": "2025-05-02T13:18:23.190351Z",
     "shell.execute_reply.started": "2025-05-02T13:18:12.378438Z"
    }
   },
   "outputs": [
    {
     "name": "stdout",
     "output_type": "stream",
     "text": [
      "User Guide: https://docs.kepler.gl/docs/keplergl-jupyter\n"
     ]
    },
    {
     "name": "stderr",
     "output_type": "stream",
     "text": [
      "/opt/conda/envs/wherobots/lib/python3.11/site-packages/jupyter_client/session.py:719: UserWarning: Message serialization failed with:\n",
      "Out of range float values are not JSON compliant\n",
      "Supporting this message is deprecated in jupyter-client 7, please make sure your message is JSON-compliant\n",
      "  content = self.pack(content)\n"
     ]
    },
    {
     "data": {
      "application/vnd.jupyter.widget-view+json": {
       "model_id": "d2c57203b8814aedaa4e6a776a0d144f",
       "version_major": 2,
       "version_minor": 0
      },
      "text/plain": [
       "KeplerGl(data={'road_speed_hex': {'index': [0, 1, 2, 3, 4, 5, 6, 7, 8, 9, 10, 11, 12, 13, 14, 15, 16, 17, 18, …"
      ]
     },
     "execution_count": 48,
     "metadata": {},
     "output_type": "execute_result"
    }
   ],
   "source": [
    "kepler_map = SedonaKepler.create_map()\n",
    "SedonaKepler.add_df(kepler_map, road_speed_hex, name=\"road_speed_hex\")\n",
    "kepler_map\n"
   ]
  },
  {
   "cell_type": "markdown",
   "id": "50c16ec7-1217-4982-be35-4779d3f17394",
   "metadata": {},
   "source": [
    "Hex bins are identified along major road networks and as an added benefit we brought in the speed limits.\n",
    "Process of aggregating the rest of risk paramaters to H3 cell\n",
    "\n",
    "Service Stations counts\n",
    "Landslide counts\n",
    "Emergency Services counts\n",
    "Landslide potential\n",
    "Flooding potential"
   ]
  },
  {
   "cell_type": "code",
   "execution_count": 26,
   "id": "03b4f75e-4c2b-4264-b33c-d99ec466a42a",
   "metadata": {
    "execution": {
     "iopub.execute_input": "2025-05-02T14:22:53.666736Z",
     "iopub.status.busy": "2025-05-02T14:22:53.666540Z",
     "iopub.status.idle": "2025-05-02T14:23:00.550888Z",
     "shell.execute_reply": "2025-05-02T14:23:00.549276Z",
     "shell.execute_reply.started": "2025-05-02T14:22:53.666723Z"
    }
   },
   "outputs": [
    {
     "name": "stderr",
     "output_type": "stream",
     "text": [
      "[Stage 105:====================================================>  (21 + 1) / 22]\r"
     ]
    },
    {
     "name": "stdout",
     "output_type": "stream",
     "text": [
      "+------------------+\n",
      "|count(DISTINCT h3)|\n",
      "+------------------+\n",
      "|               377|\n",
      "+------------------+\n",
      "\n"
     ]
    },
    {
     "name": "stderr",
     "output_type": "stream",
     "text": [
      "                                                                                \r"
     ]
    }
   ],
   "source": [
    "sedona.sql(\"\"\" SELECT count(distinct h3) from hex_bins_d\"\"\").show()"
   ]
  },
  {
   "cell_type": "code",
   "execution_count": 27,
   "id": "828d7b30-cf99-4811-8a34-1bece6f2d14e",
   "metadata": {
    "execution": {
     "iopub.execute_input": "2025-05-02T14:23:04.954642Z",
     "iopub.status.busy": "2025-05-02T14:23:04.954402Z",
     "iopub.status.idle": "2025-05-02T14:23:16.052366Z",
     "shell.execute_reply": "2025-05-02T14:23:16.051746Z",
     "shell.execute_reply.started": "2025-05-02T14:23:04.954628Z"
    }
   },
   "outputs": [
    {
     "name": "stderr",
     "output_type": "stream",
     "text": [
      "                                                                                \r"
     ]
    },
    {
     "name": "stdout",
     "output_type": "stream",
     "text": [
      "+-----------+--------------------+------------------+\n",
      "|speed_limit|            geometry|                h3|\n",
      "+-----------+--------------------+------------------+\n",
      "|        140|POLYGON ((15.5126...|604012733699981311|\n",
      "|        140|POLYGON ((22.3708...|604013109778055167|\n",
      "|        140|POLYGON ((18.4898...|604012552640266239|\n",
      "+-----------+--------------------+------------------+\n",
      "only showing top 3 rows\n",
      "\n"
     ]
    }
   ],
   "source": [
    "road_speed_hex.show(3)"
   ]
  },
  {
   "cell_type": "code",
   "execution_count": 28,
   "id": "c45fc86c-4b65-4b0a-922a-b3b221fa9184",
   "metadata": {
    "execution": {
     "iopub.execute_input": "2025-05-02T14:23:16.165149Z",
     "iopub.status.busy": "2025-05-02T14:23:16.164808Z",
     "iopub.status.idle": "2025-05-02T14:23:22.666528Z",
     "shell.execute_reply": "2025-05-02T14:23:22.666003Z",
     "shell.execute_reply.started": "2025-05-02T14:23:16.165129Z"
    }
   },
   "outputs": [
    {
     "name": "stderr",
     "output_type": "stream",
     "text": [
      "[Stage 150:==========================================>            (17 + 5) / 22]\r"
     ]
    },
    {
     "name": "stdout",
     "output_type": "stream",
     "text": [
      "CPU times: user 8.53 ms, sys: 494 μs, total: 9.03 ms\n",
      "Wall time: 6.5 s\n"
     ]
    },
    {
     "name": "stderr",
     "output_type": "stream",
     "text": [
      "                                                                                \r"
     ]
    },
    {
     "data": {
      "text/plain": [
       "377"
      ]
     },
     "execution_count": 28,
     "metadata": {},
     "output_type": "execute_result"
    }
   ],
   "source": [
    "%%time\n",
    "\n",
    "service_stations_df = sedona.sql(\"\"\"\n",
    "SELECT\n",
    "    h.h3,\n",
    "    count(p.id) as service_stations\n",
    "FROM \n",
    "    hex_bins_d h\n",
    "LEFT JOIN\n",
    "    pl_service_stations p on ST_CONTAINS(h.hex_geometry,p.geometry)\n",
    "GROUP BY \n",
    "    h.h3\n",
    "\"\"\")\n",
    "service_stations_df = service_stations_df.repartition(12)\n",
    "service_stations_df.createOrReplaceTempView(\"hex_service_stations\")\n",
    "service_stations_df.count()"
   ]
  },
  {
   "cell_type": "code",
   "execution_count": 29,
   "id": "839c4012-566f-494f-bc76-bab638479bc0",
   "metadata": {
    "execution": {
     "iopub.execute_input": "2025-05-02T14:23:25.505785Z",
     "iopub.status.busy": "2025-05-02T14:23:25.505260Z",
     "iopub.status.idle": "2025-05-02T14:23:34.527469Z",
     "shell.execute_reply": "2025-05-02T14:23:34.526873Z",
     "shell.execute_reply.started": "2025-05-02T14:23:25.505768Z"
    }
   },
   "outputs": [
    {
     "name": "stderr",
     "output_type": "stream",
     "text": [
      "                                                                                \r"
     ]
    },
    {
     "name": "stdout",
     "output_type": "stream",
     "text": [
      "+------------------+----------------+\n",
      "|                h3|service_stations|\n",
      "+------------------+----------------+\n",
      "|604028358254133247|               0|\n",
      "|604013306272808959|               2|\n",
      "|604012595053068287|               0|\n",
      "+------------------+----------------+\n",
      "only showing top 3 rows\n",
      "\n"
     ]
    }
   ],
   "source": [
    "service_stations_df.show(3)"
   ]
  },
  {
   "cell_type": "code",
   "execution_count": 30,
   "id": "7b17621a-851f-461b-888f-aae011f500c6",
   "metadata": {
    "execution": {
     "iopub.execute_input": "2025-05-02T14:23:37.835950Z",
     "iopub.status.busy": "2025-05-02T14:23:37.835623Z",
     "iopub.status.idle": "2025-05-02T14:23:44.486699Z",
     "shell.execute_reply": "2025-05-02T14:23:44.486135Z",
     "shell.execute_reply.started": "2025-05-02T14:23:37.835934Z"
    }
   },
   "outputs": [
    {
     "name": "stderr",
     "output_type": "stream",
     "text": [
      "[Stage 202:===============================================>       (19 + 3) / 22]\r"
     ]
    },
    {
     "name": "stdout",
     "output_type": "stream",
     "text": [
      "CPU times: user 5.58 ms, sys: 4.55 ms, total: 10.1 ms\n",
      "Wall time: 6.65 s\n"
     ]
    },
    {
     "name": "stderr",
     "output_type": "stream",
     "text": [
      "                                                                                \r"
     ]
    },
    {
     "data": {
      "text/plain": [
       "377"
      ]
     },
     "execution_count": 30,
     "metadata": {},
     "output_type": "execute_result"
    }
   ],
   "source": [
    "%%time\n",
    "\n",
    "emergency_services_df = sedona.sql(\"\"\"\n",
    "SELECT\n",
    "    h.h3,\n",
    "    count(p.id) as emergency_services\n",
    "FROM \n",
    "    hex_bins_d h\n",
    "LEFT JOIN\n",
    "    pl_emergency_services p on ST_CONTAINS(h.hex_geometry,p.geometry)\n",
    "GROUP BY \n",
    "    h.h3\n",
    "\"\"\")\n",
    "emergency_services_df = emergency_services_df.repartition(12)\n",
    "emergency_services_df.createOrReplaceTempView(\"hex_emergency_services\")\n",
    "emergency_services_df.count()"
   ]
  },
  {
   "cell_type": "code",
   "execution_count": 31,
   "id": "cc3a7b4d-1786-48a0-a17a-e8c80941e7c0",
   "metadata": {
    "execution": {
     "iopub.execute_input": "2025-05-02T14:23:48.074764Z",
     "iopub.status.busy": "2025-05-02T14:23:48.074528Z",
     "iopub.status.idle": "2025-05-02T14:23:57.023442Z",
     "shell.execute_reply": "2025-05-02T14:23:57.022878Z",
     "shell.execute_reply.started": "2025-05-02T14:23:48.074749Z"
    }
   },
   "outputs": [
    {
     "name": "stderr",
     "output_type": "stream",
     "text": [
      "                                                                                \r"
     ]
    },
    {
     "name": "stdout",
     "output_type": "stream",
     "text": [
      "+------------------+------------------+\n",
      "|                h3|emergency_services|\n",
      "+------------------+------------------+\n",
      "|604028358254133247|                 0|\n",
      "|604012739739779071|                 0|\n",
      "|604028357717262335|                 1|\n",
      "+------------------+------------------+\n",
      "only showing top 3 rows\n",
      "\n"
     ]
    }
   ],
   "source": [
    "emergency_services_df.show(3)"
   ]
  },
  {
   "cell_type": "code",
   "execution_count": 32,
   "id": "56dbc41d-4df5-45a2-8764-e26c1256062b",
   "metadata": {
    "execution": {
     "iopub.execute_input": "2025-05-02T14:24:02.155376Z",
     "iopub.status.busy": "2025-05-02T14:24:02.155163Z",
     "iopub.status.idle": "2025-05-02T14:24:21.022426Z",
     "shell.execute_reply": "2025-05-02T14:24:21.021083Z",
     "shell.execute_reply.started": "2025-05-02T14:24:02.155362Z"
    }
   },
   "outputs": [
    {
     "name": "stderr",
     "output_type": "stream",
     "text": [
      "[Stage 254:=====================================================> (32 + 1) / 33]\r"
     ]
    },
    {
     "name": "stdout",
     "output_type": "stream",
     "text": [
      "+--------------------+--------------------+--------------------+-------+--------------------+-----------+-----------+-----+-----+---------+------+--------------+----------+----------------------+----------+---------+------------+---------------+-------------+----------+--------------+----------------+----------+-----------+\n",
      "|                  id|            geometry|                bbox|version|             sources|    subtype|      class|names|level|has_parts|height|is_underground|num_floors|num_floors_underground|min_height|min_floor|facade_color|facade_material|roof_material|roof_shape|roof_direction|roof_orientation|roof_color|roof_height|\n",
      "+--------------------+--------------------+--------------------+-------+--------------------+-----------+-----------+-----+-----+---------+------+--------------+----------+----------------------+----------+---------+------------+---------------+-------------+----------+--------------+----------------+----------+-----------+\n",
      "|08b1f53c13694fff0...|POLYGON ((21.1272...|{21.127174, 21.12...|      0|[{, OpenStreetMap...|residential|residential| NULL| NULL|    false|  NULL|         false|         2|                  NULL|      NULL|     NULL|        NULL|           NULL|         NULL|      NULL|          NULL|            NULL|      NULL|       NULL|\n",
      "|08b1f53ca5080fff0...|POLYGON ((21.0545...|{21.05451, 21.055...|      0|[{, OpenStreetMap...|residential| apartments| NULL| NULL|    false|  NULL|         false|         3|                  NULL|      NULL|     NULL|        NULL|           NULL|         NULL|      NULL|          NULL|            NULL|      NULL|       NULL|\n",
      "|08b1f53c9c441fff0...|POLYGON ((21.0491...|{21.048952, 21.04...|      0|[{, OpenStreetMap...|residential| apartments| NULL| NULL|    false|  NULL|         false|         3|                  NULL|      NULL|     NULL|        NULL|           NULL|         NULL|      NULL|          NULL|            NULL|      NULL|       NULL|\n",
      "+--------------------+--------------------+--------------------+-------+--------------------+-----------+-----------+-----+-----+---------+------+--------------+----------+----------------------+----------+---------+------------+---------------+-------------+----------+--------------+----------------+----------+-----------+\n",
      "only showing top 3 rows\n",
      "\n"
     ]
    },
    {
     "name": "stderr",
     "output_type": "stream",
     "text": [
      "                                                                                \r"
     ]
    }
   ],
   "source": [
    "pl_buildings_df.show(3)"
   ]
  },
  {
   "cell_type": "code",
   "execution_count": 33,
   "id": "96b61964-2c5e-4dbe-a4bd-35a5bfdc91f7",
   "metadata": {
    "execution": {
     "iopub.execute_input": "2025-05-02T14:24:23.355396Z",
     "iopub.status.busy": "2025-05-02T14:24:23.355083Z",
     "iopub.status.idle": "2025-05-02T14:24:29.816734Z",
     "shell.execute_reply": "2025-05-02T14:24:29.816024Z",
     "shell.execute_reply.started": "2025-05-02T14:24:23.355382Z"
    }
   },
   "outputs": [
    {
     "name": "stderr",
     "output_type": "stream",
     "text": [
      "[Stage 257:====================================================>  (21 + 1) / 22]\r"
     ]
    },
    {
     "name": "stdout",
     "output_type": "stream",
     "text": [
      "CPU times: user 6.63 ms, sys: 3.61 ms, total: 10.2 ms\n",
      "Wall time: 6.46 s\n"
     ]
    },
    {
     "name": "stderr",
     "output_type": "stream",
     "text": [
      "                                                                                \r"
     ]
    },
    {
     "data": {
      "text/plain": [
       "377"
      ]
     },
     "execution_count": 33,
     "metadata": {},
     "output_type": "execute_result"
    }
   ],
   "source": [
    "%%time    \n",
    "res_buildings_df = sedona.sql(\"\"\"\n",
    "\n",
    "\n",
    "SELECT\n",
    "    h.h3,\n",
    "    count(b.id) as res_building\n",
    "FROM \n",
    "    hex_bins_d h\n",
    "LEFT JOIN\n",
    "    pl_buildings b on ST_CONTAINS(h.hex_geometry,ST_CENTROID(b.geometry))\n",
    "GROUP BY \n",
    "    h.h3\n",
    "\"\"\")\n",
    "res_buildings_df = res_buildings_df.repartition(12)\n",
    "res_buildings_df.createOrReplaceTempView(\"hex_res_buildings\")\n",
    "res_buildings_df.count()"
   ]
  },
  {
   "cell_type": "code",
   "execution_count": 34,
   "id": "ec3a8189-225f-456c-8eab-c90060385022",
   "metadata": {
    "execution": {
     "iopub.execute_input": "2025-05-02T14:24:29.817916Z",
     "iopub.status.busy": "2025-05-02T14:24:29.817722Z",
     "iopub.status.idle": "2025-05-02T14:24:48.963160Z",
     "shell.execute_reply": "2025-05-02T14:24:48.962622Z",
     "shell.execute_reply.started": "2025-05-02T14:24:29.817897Z"
    }
   },
   "outputs": [
    {
     "name": "stderr",
     "output_type": "stream",
     "text": [
      "[Stage 305:=======================>                                (7 + 3) / 17]\r"
     ]
    },
    {
     "name": "stdout",
     "output_type": "stream",
     "text": [
      "+------------------+------------+\n",
      "|                h3|res_building|\n",
      "+------------------+------------+\n",
      "|604012529823252479|        1891|\n",
      "|604028369662640127|         239|\n",
      "|604029749286666239|         348|\n",
      "|604012411443216383|           2|\n",
      "|604012742558351359|          20|\n",
      "|604033640929689599|          28|\n",
      "|604010499645898751|        1018|\n",
      "|604028357717262335|          20|\n",
      "|604033364038516735|         180|\n",
      "|604029455215624191|         460|\n",
      "|604033675289427967|           1|\n",
      "|604033635695198207|          12|\n",
      "|604012710211878911|          89|\n",
      "|604012427280908287|          97|\n",
      "|604033394774376447|          18|\n",
      "|604012521233317887|         382|\n",
      "|604012703098339327|         268|\n",
      "|604012661222408191|        1892|\n",
      "|604012634781515775|         369|\n",
      "|604012496805691391|          61|\n",
      "+------------------+------------+\n",
      "only showing top 20 rows\n",
      "\n",
      "CPU times: user 20.5 ms, sys: 17.6 ms, total: 38 ms\n",
      "Wall time: 19.1 s\n"
     ]
    },
    {
     "name": "stderr",
     "output_type": "stream",
     "text": [
      "                                                                                \r"
     ]
    }
   ],
   "source": [
    "%%time\n",
    "res_buildings_df.where(\"res_building>0\").show()"
   ]
  },
  {
   "cell_type": "code",
   "execution_count": 36,
   "id": "9dd1416b-84fb-4614-aad5-bb470709a8a7",
   "metadata": {
    "execution": {
     "iopub.execute_input": "2025-05-02T14:24:55.267757Z",
     "iopub.status.busy": "2025-05-02T14:24:55.267586Z",
     "iopub.status.idle": "2025-05-02T14:25:01.656351Z",
     "shell.execute_reply": "2025-05-02T14:25:01.655828Z",
     "shell.execute_reply.started": "2025-05-02T14:24:55.267739Z"
    }
   },
   "outputs": [
    {
     "name": "stderr",
     "output_type": "stream",
     "text": [
      "                                                                                \r"
     ]
    },
    {
     "data": {
      "text/plain": [
       "377"
      ]
     },
     "execution_count": 36,
     "metadata": {},
     "output_type": "execute_result"
    }
   ],
   "source": [
    "res_buildings_df.count()"
   ]
  },
  {
   "cell_type": "code",
   "execution_count": 37,
   "id": "fc3ce839-b886-4e28-a576-0814cb20c7da",
   "metadata": {
    "execution": {
     "iopub.execute_input": "2025-05-02T14:25:12.731755Z",
     "iopub.status.busy": "2025-05-02T14:25:12.731538Z",
     "iopub.status.idle": "2025-05-02T14:25:19.465660Z",
     "shell.execute_reply": "2025-05-02T14:25:19.465095Z",
     "shell.execute_reply.started": "2025-05-02T14:25:12.731740Z"
    }
   },
   "outputs": [
    {
     "name": "stderr",
     "output_type": "stream",
     "text": [
      "[Stage 381:====================================================>  (21 + 1) / 22]\r"
     ]
    },
    {
     "name": "stdout",
     "output_type": "stream",
     "text": [
      "CPU times: user 9.18 ms, sys: 602 μs, total: 9.78 ms\n",
      "Wall time: 6.73 s\n"
     ]
    },
    {
     "name": "stderr",
     "output_type": "stream",
     "text": [
      "                                                                                \r"
     ]
    },
    {
     "data": {
      "text/plain": [
       "377"
      ]
     },
     "execution_count": 37,
     "metadata": {},
     "output_type": "execute_result"
    }
   ],
   "source": [
    "%%time\n",
    "\n",
    "enriched_hex_df = sedona.sql(\"\"\"\n",
    "SELECT\n",
    "    r.h3,\n",
    "    r.geometry,\n",
    "    r.speed_limit,\n",
    "    s.service_stations,\n",
    "    r.res_building,\n",
    "    e.emergency_services\n",
    "FROM\n",
    "    road_speed_hex r\n",
    "LEFT JOIN    \n",
    "    hex_service_stations s using(h3) \n",
    "LEFT JOIN\n",
    "    hex_res_buildings r using(h3) \n",
    "LEFT JOIN\n",
    "    hex_emergency_services e using(h3)\n",
    "\"\"\")\n",
    "\n",
    "enriched_hex_df = enriched_hex_df.repartition(12)\n",
    "enriched_hex_df.createOrReplaceTempView(\"enriched_hex\")\n",
    "enriched_hex_df.count()"
   ]
  },
  {
   "cell_type": "code",
   "execution_count": 38,
   "id": "883a3d97-d833-4693-8a81-f9f1e1c57c45",
   "metadata": {
    "execution": {
     "iopub.execute_input": "2025-05-02T14:25:21.964357Z",
     "iopub.status.busy": "2025-05-02T14:25:21.964146Z",
     "iopub.status.idle": "2025-05-02T14:26:04.816463Z",
     "shell.execute_reply": "2025-05-02T14:26:04.815873Z",
     "shell.execute_reply.started": "2025-05-02T14:25:21.964342Z"
    }
   },
   "outputs": [
    {
     "name": "stderr",
     "output_type": "stream",
     "text": [
      "                                                                                \r"
     ]
    },
    {
     "name": "stdout",
     "output_type": "stream",
     "text": [
      "+------------------+--------------------+-----------+----------------+------------+------------------+\n",
      "|                h3|            geometry|speed_limit|service_stations|res_building|emergency_services|\n",
      "+------------------+--------------------+-----------+----------------+------------+------------------+\n",
      "|604033363367428095|POLYGON ((19.6475...|        140|               0|         118|                 0|\n",
      "|604013036629393407|POLYGON ((20.6428...|         50|               1|          33|                 2|\n",
      "|604013119307513855|POLYGON ((23.1164...|        140|               0|           4|                 0|\n",
      "|604012739739779071|POLYGON ((16.3459...|       NULL|               1|          23|                 0|\n",
      "|604033636366286847|POLYGON ((18.8859...|        140|               0|           6|                 0|\n",
      "|604033361354162175|POLYGON ((19.8468...|        140|               0|          88|                 0|\n",
      "|604012500563787775|POLYGON ((17.1567...|        140|               0|           5|                 0|\n",
      "|604033395311247359|POLYGON ((19.2788...|        140|               0|           1|                 0|\n",
      "|604013305064849407|POLYGON ((19.8965...|        140|              43|        1265|                42|\n",
      "|604012396410830847|POLYGON ((19.6045...|        140|              11|        4388|                13|\n",
      "|604013043206062079|POLYGON ((20.5223...|       NULL|               3|           0|                 2|\n",
      "|604012713164668927|POLYGON ((17.7734...|        140|               0|          19|                 0|\n",
      "|604012528212639743|POLYGON ((17.9307...|        140|               2|        1054|                 2|\n",
      "|604033398532472831|POLYGON ((19.4386...|        140|               0|           3|                 1|\n",
      "|604012521233317887|POLYGON ((18.2452...|        140|               0|         382|                 0|\n",
      "|604013036763611135|POLYGON ((20.7998...|        140|               1|           0|                 0|\n",
      "|604033434905477119|POLYGON ((21.4462...|        140|               4|          27|                 3|\n",
      "|604012647800635391|POLYGON ((15.7184...|        140|               0|           1|                 0|\n",
      "|604012409698385919|POLYGON ((19.2458...|        140|               0|           0|                 0|\n",
      "|604012576262586367|POLYGON ((17.8261...|        140|               0|         142|                 0|\n",
      "+------------------+--------------------+-----------+----------------+------------+------------------+\n",
      "only showing top 20 rows\n",
      "\n",
      "CPU times: user 43.9 ms, sys: 6.67 ms, total: 50.5 ms\n",
      "Wall time: 42.8 s\n"
     ]
    }
   ],
   "source": [
    "%%time\n",
    "enriched_hex_df.show()"
   ]
  },
  {
   "cell_type": "code",
   "execution_count": 61,
   "id": "a2597c40-6f41-4f42-8dc1-5c3f57f69fca",
   "metadata": {
    "execution": {
     "iopub.execute_input": "2025-05-02T13:21:36.476549Z",
     "iopub.status.busy": "2025-05-02T13:21:36.476305Z",
     "iopub.status.idle": "2025-05-02T13:22:18.748429Z",
     "shell.execute_reply": "2025-05-02T13:22:18.747910Z",
     "shell.execute_reply.started": "2025-05-02T13:21:36.476519Z"
    }
   },
   "outputs": [
    {
     "name": "stdout",
     "output_type": "stream",
     "text": [
      "User Guide: https://docs.kepler.gl/docs/keplergl-jupyter\n"
     ]
    },
    {
     "name": "stderr",
     "output_type": "stream",
     "text": [
      "/opt/conda/envs/wherobots/lib/python3.11/site-packages/jupyter_client/session.py:719: UserWarning: Message serialization failed with:\n",
      "Out of range float values are not JSON compliant\n",
      "Supporting this message is deprecated in jupyter-client 7, please make sure your message is JSON-compliant\n",
      "  content = self.pack(content)\n"
     ]
    },
    {
     "data": {
      "application/vnd.jupyter.widget-view+json": {
       "model_id": "73a69c615f994d7ca59790efd56848f0",
       "version_major": 2,
       "version_minor": 0
      },
      "text/plain": [
       "KeplerGl(data={'roads': {'index': [0, 1, 2, 3, 4, 5, 6, 7, 8, 9, 10, 11, 12, 13, 14, 15, 16, 17, 18, 19, 20, 2…"
      ]
     },
     "execution_count": 61,
     "metadata": {},
     "output_type": "execute_result"
    }
   ],
   "source": [
    "kepler_map = SedonaKepler.create_map()\n",
    "SedonaKepler.add_df(kepler_map, enriched_hex_df, name=\"roads\")\n",
    "kepler_map"
   ]
  },
  {
   "cell_type": "markdown",
   "id": "89d5adb8-d0a2-43fb-829c-c29b372dde9e",
   "metadata": {},
   "source": [
    "Raster Data Joining with Zonal Statistics"
   ]
  },
  {
   "cell_type": "code",
   "execution_count": 39,
   "id": "a1729942-9453-49b4-a66d-a5eff30526a5",
   "metadata": {
    "execution": {
     "iopub.execute_input": "2025-05-02T14:26:04.817664Z",
     "iopub.status.busy": "2025-05-02T14:26:04.817353Z",
     "iopub.status.idle": "2025-05-02T14:26:04.886553Z",
     "shell.execute_reply": "2025-05-02T14:26:04.886057Z",
     "shell.execute_reply.started": "2025-05-02T14:26:04.817642Z"
    }
   },
   "outputs": [
    {
     "name": "stdout",
     "output_type": "stream",
     "text": [
      "CPU times: user 1.42 ms, sys: 159 μs, total: 1.57 ms\n",
      "Wall time: 65.2 ms\n"
     ]
    }
   ],
   "source": [
    "%%time\n",
    "\n",
    "landslide_df = sedona.sql(\"\"\"\n",
    "WITH matched_tile AS (\n",
    "  SELECT \n",
    "      t2.tile,\n",
    "      t1.h3,\n",
    "      t1.geometry\n",
    "  FROM \n",
    "      enriched_hex t1\n",
    "  LEFT JOIN   \n",
    "      land_slide_risk_tiled t2\n",
    "  ON ST_OVERLAPS(RS_ENVELOPE(tile), t1.geometry)  \n",
    ")\n",
    "\n",
    "SELECT \n",
    "    max(RS_ZonalStats(tile, geometry, 'max')) AS max_landslide_class,\n",
    "    matched_tile.h3 \n",
    "FROM matched_tile\n",
    "group by matched_tile.h3\n",
    "\"\"\")"
   ]
  },
  {
   "cell_type": "code",
   "execution_count": 40,
   "id": "1e7924e9-436f-4b85-9c9c-71269a05ed4b",
   "metadata": {
    "execution": {
     "iopub.execute_input": "2025-05-02T14:26:13.110127Z",
     "iopub.status.busy": "2025-05-02T14:26:13.109780Z",
     "iopub.status.idle": "2025-05-02T14:26:23.442753Z",
     "shell.execute_reply": "2025-05-02T14:26:23.442167Z",
     "shell.execute_reply.started": "2025-05-02T14:26:13.110111Z"
    }
   },
   "outputs": [
    {
     "name": "stderr",
     "output_type": "stream",
     "text": [
      "[Stage 531:==================================================>    (11 + 1) / 12]\r"
     ]
    },
    {
     "name": "stdout",
     "output_type": "stream",
     "text": [
      "+-------------------+------------------+\n",
      "|max_landslide_class|                h3|\n",
      "+-------------------+------------------+\n",
      "|               NULL|604013119307513855|\n",
      "|               NULL|604012529957470207|\n",
      "|               NULL|604012670214995967|\n",
      "+-------------------+------------------+\n",
      "only showing top 3 rows\n",
      "\n"
     ]
    },
    {
     "name": "stderr",
     "output_type": "stream",
     "text": [
      "                                                                                \r"
     ]
    }
   ],
   "source": [
    "landslide_df.show(3)"
   ]
  },
  {
   "cell_type": "code",
   "execution_count": 41,
   "id": "a04d0b87-dfa9-485a-acd6-bcfced2d029f",
   "metadata": {
    "execution": {
     "iopub.execute_input": "2025-05-02T14:26:28.867375Z",
     "iopub.status.busy": "2025-05-02T14:26:28.867135Z",
     "iopub.status.idle": "2025-05-02T14:26:28.894887Z",
     "shell.execute_reply": "2025-05-02T14:26:28.894238Z",
     "shell.execute_reply.started": "2025-05-02T14:26:28.867361Z"
    }
   },
   "outputs": [],
   "source": [
    "matched_tile_df = sedona.sql(\"\"\"\n",
    "SELECT \n",
    "    t2.tile,\n",
    "    t1.h3,\n",
    "    t1.geometry\n",
    "FROM \n",
    "    enriched_hex t1\n",
    "LEFT JOIN   \n",
    "    land_slide_risk_tiled t2\n",
    "ON ST_OVERLAPS(RS_ENVELOPE(tile), t1.geometry)\n",
    "\"\"\")"
   ]
  },
  {
   "cell_type": "code",
   "execution_count": 42,
   "id": "a233fb3f-4c52-4fba-b3af-6b3c7fc47e1f",
   "metadata": {
    "execution": {
     "iopub.execute_input": "2025-05-02T14:26:35.283304Z",
     "iopub.status.busy": "2025-05-02T14:26:35.283085Z",
     "iopub.status.idle": "2025-05-02T14:26:35.286314Z",
     "shell.execute_reply": "2025-05-02T14:26:35.285858Z",
     "shell.execute_reply.started": "2025-05-02T14:26:35.283290Z"
    }
   },
   "outputs": [
    {
     "name": "stdout",
     "output_type": "stream",
     "text": [
      "root\n",
      " |-- tile: raster (nullable = true)\n",
      " |-- h3: long (nullable = true)\n",
      " |-- geometry: geometry (nullable = true)\n",
      "\n"
     ]
    }
   ],
   "source": [
    "matched_tile_df.printSchema()"
   ]
  },
  {
   "cell_type": "code",
   "execution_count": 43,
   "id": "7717e3c0-a7fd-46e4-9c41-ccdff0564a02",
   "metadata": {
    "execution": {
     "iopub.execute_input": "2025-05-02T14:26:38.334464Z",
     "iopub.status.busy": "2025-05-02T14:26:38.334208Z",
     "iopub.status.idle": "2025-05-02T14:26:45.332176Z",
     "shell.execute_reply": "2025-05-02T14:26:45.331654Z",
     "shell.execute_reply.started": "2025-05-02T14:26:38.334449Z"
    }
   },
   "outputs": [
    {
     "name": "stderr",
     "output_type": "stream",
     "text": [
      "                                                                                \r"
     ]
    },
    {
     "data": {
      "text/plain": [
       "488"
      ]
     },
     "execution_count": 43,
     "metadata": {},
     "output_type": "execute_result"
    }
   ],
   "source": [
    "matched_tile_df.count()"
   ]
  },
  {
   "cell_type": "code",
   "execution_count": 68,
   "id": "58506712-aab1-45da-9e3c-51af6bf74ed9",
   "metadata": {
    "execution": {
     "iopub.execute_input": "2025-05-02T13:23:37.596451Z",
     "iopub.status.busy": "2025-05-02T13:23:37.596226Z",
     "iopub.status.idle": "2025-05-02T13:23:44.972534Z",
     "shell.execute_reply": "2025-05-02T13:23:44.971891Z",
     "shell.execute_reply.started": "2025-05-02T13:23:37.596435Z"
    }
   },
   "outputs": [
    {
     "name": "stdout",
     "output_type": "stream",
     "text": [
      "User Guide: https://docs.kepler.gl/docs/keplergl-jupyter\n"
     ]
    },
    {
     "name": "stderr",
     "output_type": "stream",
     "text": [
      "                                                                                \r"
     ]
    },
    {
     "data": {
      "application/vnd.jupyter.widget-view+json": {
       "model_id": "f1243950cea04df6921bcee89d33d1e4",
       "version_major": 2,
       "version_minor": 0
      },
      "text/plain": [
       "KeplerGl(data={'Hiking Trails': {'index': [0, 1, 2, 3, 4, 5, 6, 7, 8, 9, 10, 11, 12, 13, 14, 15, 16, 17, 18, 1…"
      ]
     },
     "execution_count": 68,
     "metadata": {},
     "output_type": "execute_result"
    }
   ],
   "source": [
    "SedonaKepler.create_map(matched_tile_df, \"Hiking Trails\")"
   ]
  },
  {
   "cell_type": "code",
   "execution_count": 44,
   "id": "20a5a049-94b5-4b5c-99eb-d2cb99f7135f",
   "metadata": {
    "execution": {
     "iopub.execute_input": "2025-05-02T14:26:51.489432Z",
     "iopub.status.busy": "2025-05-02T14:26:51.489193Z",
     "iopub.status.idle": "2025-05-02T14:26:51.499734Z",
     "shell.execute_reply": "2025-05-02T14:26:51.499269Z",
     "shell.execute_reply.started": "2025-05-02T14:26:51.489417Z"
    }
   },
   "outputs": [],
   "source": [
    "matched_tile_df.createOrReplaceTempView(\"matched_tile\")"
   ]
  },
  {
   "cell_type": "code",
   "execution_count": 45,
   "id": "4fdec7cb-8698-4873-aa4c-59b9f7097a85",
   "metadata": {
    "execution": {
     "iopub.execute_input": "2025-05-02T14:26:52.947857Z",
     "iopub.status.busy": "2025-05-02T14:26:52.947616Z",
     "iopub.status.idle": "2025-05-02T14:26:52.967863Z",
     "shell.execute_reply": "2025-05-02T14:26:52.967298Z",
     "shell.execute_reply.started": "2025-05-02T14:26:52.947842Z"
    }
   },
   "outputs": [],
   "source": [
    "landslide_df = sedona.sql(\"\"\"\n",
    "SELECT \n",
    "    MAX(RS_ZonalStats(tile, geometry, 'max')) AS max_landslide_class,\n",
    "    h3 \n",
    "FROM matched_tile\n",
    "GROUP BY h3\n",
    "\"\"\")"
   ]
  },
  {
   "cell_type": "code",
   "execution_count": 46,
   "id": "b4f27756-a51e-461d-9773-257d4494a128",
   "metadata": {
    "execution": {
     "iopub.execute_input": "2025-05-02T14:26:53.836167Z",
     "iopub.status.busy": "2025-05-02T14:26:53.835835Z",
     "iopub.status.idle": "2025-05-02T14:27:02.251394Z",
     "shell.execute_reply": "2025-05-02T14:27:02.250847Z",
     "shell.execute_reply.started": "2025-05-02T14:26:53.836153Z"
    }
   },
   "outputs": [
    {
     "name": "stderr",
     "output_type": "stream",
     "text": [
      "[Stage 601:==================================================>    (11 + 1) / 12]\r"
     ]
    },
    {
     "name": "stdout",
     "output_type": "stream",
     "text": [
      "+-------------------+------------------+\n",
      "|max_landslide_class|                h3|\n",
      "+-------------------+------------------+\n",
      "|               NULL|604013119307513855|\n",
      "|               NULL|604012529957470207|\n",
      "|               NULL|604012670214995967|\n",
      "|               NULL|604029475616718847|\n",
      "|                2.0|604012531702300671|\n",
      "|               NULL|604013120783908863|\n",
      "|               NULL|604013106556829695|\n",
      "|               NULL|604012731820933119|\n",
      "|               NULL|604012396410830847|\n",
      "|               NULL|604013118367989759|\n",
      "|               NULL|604013037703135231|\n",
      "|               NULL|604012492510724095|\n",
      "|               NULL|604012550358564863|\n",
      "|               NULL|604012635452604415|\n",
      "|               NULL|604012396947701759|\n",
      "|               NULL|604033361354162175|\n",
      "|               NULL|604010508235833343|\n",
      "|               NULL|604029749823537151|\n",
      "|                1.0|604033397995601919|\n",
      "|               NULL|604012739068690431|\n",
      "+-------------------+------------------+\n",
      "only showing top 20 rows\n",
      "\n"
     ]
    },
    {
     "name": "stderr",
     "output_type": "stream",
     "text": [
      "                                                                                \r"
     ]
    }
   ],
   "source": [
    "landslide_df.show()"
   ]
  },
  {
   "cell_type": "code",
   "execution_count": 47,
   "id": "c7b653d6-001e-42b6-9bfa-fc932d94f4b6",
   "metadata": {
    "execution": {
     "iopub.execute_input": "2025-05-02T14:27:05.107259Z",
     "iopub.status.busy": "2025-05-02T14:27:05.107049Z",
     "iopub.status.idle": "2025-05-02T14:27:05.119712Z",
     "shell.execute_reply": "2025-05-02T14:27:05.119167Z",
     "shell.execute_reply.started": "2025-05-02T14:27:05.107244Z"
    }
   },
   "outputs": [],
   "source": [
    "landslide_df = landslide_df.repartition(12)"
   ]
  },
  {
   "cell_type": "code",
   "execution_count": 48,
   "id": "6f35543b-7192-4df6-9307-7eb0bb5c9b8f",
   "metadata": {
    "execution": {
     "iopub.execute_input": "2025-05-02T14:27:06.075741Z",
     "iopub.status.busy": "2025-05-02T14:27:06.075525Z",
     "iopub.status.idle": "2025-05-02T14:27:06.081306Z",
     "shell.execute_reply": "2025-05-02T14:27:06.080851Z",
     "shell.execute_reply.started": "2025-05-02T14:27:06.075726Z"
    }
   },
   "outputs": [
    {
     "data": {
      "text/plain": [
       "DataFrame[x: int, y: int, tile: udt, path: string]"
      ]
     },
     "execution_count": 48,
     "metadata": {},
     "output_type": "execute_result"
    }
   ],
   "source": [
    "landslide_risk_tiled_df.unpersist()"
   ]
  },
  {
   "cell_type": "code",
   "execution_count": 49,
   "id": "bd28aa01-43a8-4cc1-956d-96f4d78080d3",
   "metadata": {
    "execution": {
     "iopub.execute_input": "2025-05-02T14:27:07.275849Z",
     "iopub.status.busy": "2025-05-02T14:27:07.275640Z",
     "iopub.status.idle": "2025-05-02T14:27:07.563081Z",
     "shell.execute_reply": "2025-05-02T14:27:07.562567Z",
     "shell.execute_reply.started": "2025-05-02T14:27:07.275835Z"
    }
   },
   "outputs": [
    {
     "name": "stdout",
     "output_type": "stream",
     "text": [
      "+---+---+--------------------+--------------------+\n",
      "|  x|  y|                tile|                path|\n",
      "+---+---+--------------------+--------------------+\n",
      "| 68| 63|OutDbGridCoverage...|elsus_v2_4326_cog...|\n",
      "|102| 10|OutDbGridCoverage...|elsus_v2_4326_cog...|\n",
      "|110|  3|OutDbGridCoverage...|elsus_v2_4326_cog...|\n",
      "+---+---+--------------------+--------------------+\n",
      "only showing top 3 rows\n",
      "\n"
     ]
    }
   ],
   "source": [
    "landslide_risk_tiled_df.show(3)"
   ]
  },
  {
   "cell_type": "code",
   "execution_count": 50,
   "id": "f9d01af6-0b4c-46ab-8868-c48554afc94e",
   "metadata": {
    "execution": {
     "iopub.execute_input": "2025-05-02T14:27:11.051556Z",
     "iopub.status.busy": "2025-05-02T14:27:11.051358Z",
     "iopub.status.idle": "2025-05-02T14:27:17.633386Z",
     "shell.execute_reply": "2025-05-02T14:27:17.632848Z",
     "shell.execute_reply.started": "2025-05-02T14:27:11.051542Z"
    }
   },
   "outputs": [
    {
     "name": "stderr",
     "output_type": "stream",
     "text": [
      "                                                                                \r"
     ]
    },
    {
     "data": {
      "text/plain": [
       "377"
      ]
     },
     "execution_count": 50,
     "metadata": {},
     "output_type": "execute_result"
    }
   ],
   "source": [
    "landslide_df = landslide_df.repartition(12)\n",
    "landslide_risk_tiled_df.unpersist()\n",
    "landslide_df.createOrReplaceTempView('hex_landslide')\n",
    "landslide_df.count()"
   ]
  },
  {
   "cell_type": "code",
   "execution_count": 51,
   "id": "e004e77e-a89a-4b10-83eb-e814f4d47b5b",
   "metadata": {
    "execution": {
     "iopub.execute_input": "2025-05-02T14:27:19.603166Z",
     "iopub.status.busy": "2025-05-02T14:27:19.602960Z",
     "iopub.status.idle": "2025-05-02T14:27:29.196076Z",
     "shell.execute_reply": "2025-05-02T14:27:29.195592Z",
     "shell.execute_reply.started": "2025-05-02T14:27:19.603152Z"
    }
   },
   "outputs": [
    {
     "name": "stderr",
     "output_type": "stream",
     "text": [
      "[Stage 671:==========================================>             (9 + 3) / 12]\r"
     ]
    },
    {
     "name": "stdout",
     "output_type": "stream",
     "text": [
      "+-------------------+------------------+\n",
      "|max_landslide_class|                h3|\n",
      "+-------------------+------------------+\n",
      "|               NULL|604010507833180159|\n",
      "|               NULL|604012894224383999|\n",
      "|               NULL|604013043206062079|\n",
      "+-------------------+------------------+\n",
      "only showing top 3 rows\n",
      "\n"
     ]
    },
    {
     "name": "stderr",
     "output_type": "stream",
     "text": [
      "                                                                                \r"
     ]
    }
   ],
   "source": [
    "landslide_df.show(3)"
   ]
  },
  {
   "cell_type": "code",
   "execution_count": 52,
   "id": "7051f68b-1d2a-476a-bebd-f1add717faa6",
   "metadata": {
    "execution": {
     "iopub.execute_input": "2025-05-02T14:27:34.307203Z",
     "iopub.status.busy": "2025-05-02T14:27:34.306962Z",
     "iopub.status.idle": "2025-05-02T14:27:34.310663Z",
     "shell.execute_reply": "2025-05-02T14:27:34.310173Z",
     "shell.execute_reply.started": "2025-05-02T14:27:34.307188Z"
    }
   },
   "outputs": [
    {
     "name": "stdout",
     "output_type": "stream",
     "text": [
      "root\n",
      " |-- max_landslide_class: double (nullable = true)\n",
      " |-- h3: long (nullable = true)\n",
      "\n"
     ]
    }
   ],
   "source": [
    "landslide_df.printSchema()"
   ]
  },
  {
   "cell_type": "code",
   "execution_count": 53,
   "id": "3db22dfd-c457-49a7-a128-b39ccdc534a0",
   "metadata": {
    "execution": {
     "iopub.execute_input": "2025-05-02T14:27:38.549207Z",
     "iopub.status.busy": "2025-05-02T14:27:38.548988Z",
     "iopub.status.idle": "2025-05-02T14:27:48.373827Z",
     "shell.execute_reply": "2025-05-02T14:27:48.373234Z",
     "shell.execute_reply.started": "2025-05-02T14:27:38.549192Z"
    }
   },
   "outputs": [
    {
     "name": "stderr",
     "output_type": "stream",
     "text": [
      "[Stage 719:=============================================>         (10 + 2) / 12]\r"
     ]
    },
    {
     "name": "stdout",
     "output_type": "stream",
     "text": [
      "+-------------------+------------------+\n",
      "|max_landslide_class|                h3|\n",
      "+-------------------+------------------+\n",
      "|                1.0|604012398960967679|\n",
      "|                1.0|604033373702193151|\n",
      "|                1.0|604012337757683711|\n",
      "|                1.0|604033674886774783|\n",
      "|                1.0|604028696080154623|\n",
      "|                2.0|604012742558351359|\n",
      "|                2.0|604012733834199039|\n",
      "|                1.0|604012749269237759|\n",
      "|                2.0|604012735981682687|\n",
      "|                2.0|604013304930631679|\n",
      "|                3.0|604028371541688319|\n",
      "|                3.0|604013296340697087|\n",
      "|                1.0|604028698496073727|\n",
      "|                1.0|604012595187286015|\n",
      "|                1.0|604012891808464895|\n",
      "|                1.0|604013120112820223|\n",
      "|                1.0|604033670726025215|\n",
      "|                2.0|604012749403455487|\n",
      "|                2.0|604012662296150015|\n",
      "|                1.0|604012661222408191|\n",
      "+-------------------+------------------+\n",
      "only showing top 20 rows\n",
      "\n",
      "CPU times: user 15.5 ms, sys: 227 μs, total: 15.7 ms\n",
      "Wall time: 9.82 s\n"
     ]
    },
    {
     "name": "stderr",
     "output_type": "stream",
     "text": [
      "                                                                                \r"
     ]
    }
   ],
   "source": [
    "%%time\n",
    "landslide_df.where(\"max_landslide_class is not null\").show()"
   ]
  },
  {
   "cell_type": "code",
   "execution_count": 54,
   "id": "584e233c-bad0-4c79-911e-62574f330b26",
   "metadata": {
    "execution": {
     "iopub.execute_input": "2025-05-02T14:27:50.716082Z",
     "iopub.status.busy": "2025-05-02T14:27:50.715868Z",
     "iopub.status.idle": "2025-05-02T14:28:12.120942Z",
     "shell.execute_reply": "2025-05-02T14:28:12.120386Z",
     "shell.execute_reply.started": "2025-05-02T14:27:50.716067Z"
    }
   },
   "outputs": [
    {
     "name": "stderr",
     "output_type": "stream",
     "text": [
      "[Stage 785:==============>                                         (3 + 9) / 12]\r"
     ]
    },
    {
     "name": "stdout",
     "output_type": "stream",
     "text": [
      "CPU times: user 20.5 ms, sys: 862 μs, total: 21.4 ms\n",
      "Wall time: 21.4 s\n"
     ]
    },
    {
     "name": "stderr",
     "output_type": "stream",
     "text": [
      "                                                                                \r"
     ]
    },
    {
     "data": {
      "text/plain": [
       "853"
      ]
     },
     "execution_count": 54,
     "metadata": {},
     "output_type": "execute_result"
    }
   ],
   "source": [
    "%%time\n",
    "\n",
    "flood_df = sedona.sql(\"\"\"\n",
    "WITH matched_tile AS (\n",
    "  SELECT \n",
    "      t2.tile,\n",
    "      t2.event,\n",
    "      t1.h3,\n",
    "      t1.geometry\n",
    "  FROM \n",
    "       enriched_hex t1\n",
    "  LEFT JOIN   \n",
    "      flood_raster_tiled t2\n",
    "  ON ST_OVERLAPS(RS_ENVELOPE(t2.tile), t1.geometry) \n",
    ")\n",
    "\n",
    "SELECT \n",
    "    COUNT(RS_ZonalStats(matched_tile.tile,geometry, 'count')) AS flood_point_cnt,\n",
    "    matched_tile.h3, \n",
    "    matched_tile.event\n",
    "FROM matched_tile\n",
    "GROUP BY \n",
    "h3, \n",
    "event\n",
    "\"\"\")\n",
    "flood_df = flood_df.repartition(12)\n",
    "flood_df.createOrReplaceTempView('hex_flood')\n",
    "flood_df.count()"
   ]
  },
  {
   "cell_type": "code",
   "execution_count": 56,
   "id": "13a2421d-7578-4d90-b23f-f67f6bc68667",
   "metadata": {
    "execution": {
     "iopub.execute_input": "2025-05-02T14:28:57.123405Z",
     "iopub.status.busy": "2025-05-02T14:28:57.123204Z",
     "iopub.status.idle": "2025-05-02T14:28:57.126867Z",
     "shell.execute_reply": "2025-05-02T14:28:57.126430Z",
     "shell.execute_reply.started": "2025-05-02T14:28:57.123391Z"
    }
   },
   "outputs": [
    {
     "name": "stdout",
     "output_type": "stream",
     "text": [
      "root\n",
      " |-- flood_point_cnt: long (nullable = false)\n",
      " |-- h3: long (nullable = true)\n",
      " |-- event: integer (nullable = true)\n",
      "\n"
     ]
    }
   ],
   "source": [
    "flood_df.printSchema()"
   ]
  },
  {
   "cell_type": "code",
   "execution_count": 57,
   "id": "41833879-a4e2-4ead-b16d-d32f452e7561",
   "metadata": {
    "execution": {
     "iopub.execute_input": "2025-05-02T14:29:00.240324Z",
     "iopub.status.busy": "2025-05-02T14:29:00.239996Z",
     "iopub.status.idle": "2025-05-02T14:29:26.971045Z",
     "shell.execute_reply": "2025-05-02T14:29:26.970520Z",
     "shell.execute_reply.started": "2025-05-02T14:29:00.240309Z"
    }
   },
   "outputs": [
    {
     "name": "stderr",
     "output_type": "stream",
     "text": [
      "[Stage 852:==================================================>    (11 + 1) / 12]\r"
     ]
    },
    {
     "name": "stdout",
     "output_type": "stream",
     "text": [
      "+---------------+------------------+-----+\n",
      "|flood_point_cnt|                h3|event|\n",
      "+---------------+------------------+-----+\n",
      "|              2|604033401619480575|  100|\n",
      "|              2|604033641198125055|   10|\n",
      "|              2|604033672739291135|  100|\n",
      "+---------------+------------------+-----+\n",
      "only showing top 3 rows\n",
      "\n"
     ]
    },
    {
     "name": "stderr",
     "output_type": "stream",
     "text": [
      "                                                                                \r"
     ]
    }
   ],
   "source": [
    "flood_df.show(3)"
   ]
  },
  {
   "cell_type": "code",
   "execution_count": 84,
   "id": "e1cdc718-fd6b-4fbb-af27-c6355283cc7a",
   "metadata": {
    "execution": {
     "iopub.execute_input": "2025-03-25T20:51:38.178367Z",
     "iopub.status.busy": "2025-03-25T20:51:38.177647Z",
     "iopub.status.idle": "2025-03-25T20:51:55.043916Z",
     "shell.execute_reply": "2025-03-25T20:51:55.043305Z",
     "shell.execute_reply.started": "2025-03-25T20:51:38.178339Z"
    }
   },
   "outputs": [
    {
     "name": "stderr",
     "output_type": "stream",
     "text": [
      "[Stage 1175:====================================>                  (8 + 4) / 12]\r"
     ]
    },
    {
     "name": "stdout",
     "output_type": "stream",
     "text": [
      "+---------------+------------------+-----+\n",
      "|flood_point_cnt|                h3|event|\n",
      "+---------------+------------------+-----+\n",
      "|              2|604033401619480575|  100|\n",
      "|              2|604033401619480575|   50|\n",
      "|              2|604033401619480575|   10|\n",
      "+---------------+------------------+-----+\n",
      "\n"
     ]
    },
    {
     "name": "stderr",
     "output_type": "stream",
     "text": [
      "                                                                                \r"
     ]
    }
   ],
   "source": [
    "sedona.sql(\"SELECT * from hex_flood where h3=604033401619480575 order by event DESC\").show()"
   ]
  },
  {
   "cell_type": "code",
   "execution_count": 58,
   "id": "992df149-e30b-4fb9-b6b9-2d131041030d",
   "metadata": {
    "execution": {
     "iopub.execute_input": "2025-05-02T14:29:26.972093Z",
     "iopub.status.busy": "2025-05-02T14:29:26.971925Z",
     "iopub.status.idle": "2025-05-02T14:29:27.035683Z",
     "shell.execute_reply": "2025-05-02T14:29:27.035066Z",
     "shell.execute_reply.started": "2025-05-02T14:29:26.972077Z"
    }
   },
   "outputs": [
    {
     "name": "stdout",
     "output_type": "stream",
     "text": [
      "CPU times: user 2.29 ms, sys: 0 ns, total: 2.29 ms\n",
      "Wall time: 59.8 ms\n"
     ]
    }
   ],
   "source": [
    "%%time\n",
    "flood_pivot_df = sedona.sql(\"\"\"\n",
    "\n",
    "SELECT * FROM hex_flood\n",
    "    PIVOT (\n",
    "        SUM(flood_point_cnt) AS a\n",
    "        FOR event IN ('10' AS ten_year,'20' as twenty_year,'30' as thirty,'40' as fourty,'50' as fifty,'75' as seventyfive,'100' as one_hundred,'200' as two_hundred,'500' as five_hundred)\n",
    "    )\n",
    "\n",
    "\"\"\")\n",
    "flood_pivot_df = flood_pivot_df.repartition(15)\n",
    "\n",
    "flood_pivot_df.createOrReplaceTempView('hex_flood_pivot')"
   ]
  },
  {
   "cell_type": "code",
   "execution_count": 59,
   "id": "b5e463c2-25f8-4187-b16f-ed0d18e6b8d3",
   "metadata": {
    "execution": {
     "iopub.execute_input": "2025-05-02T14:29:27.036634Z",
     "iopub.status.busy": "2025-05-02T14:29:27.036424Z",
     "iopub.status.idle": "2025-05-02T14:29:50.187159Z",
     "shell.execute_reply": "2025-05-02T14:29:50.186635Z",
     "shell.execute_reply.started": "2025-05-02T14:29:27.036613Z"
    }
   },
   "outputs": [
    {
     "name": "stderr",
     "output_type": "stream",
     "text": [
      "[Stage 909:==================================================>    (11 + 1) / 12]\r"
     ]
    },
    {
     "name": "stdout",
     "output_type": "stream",
     "text": [
      "+------------------+--------+-----------+------+------+-----+-----------+-----------+-----------+------------+\n",
      "|                h3|ten_year|twenty_year|thirty|fourty|fifty|seventyfive|one_hundred|two_hundred|five_hundred|\n",
      "+------------------+--------+-----------+------+------+-----+-----------+-----------+-----------+------------+\n",
      "|604012396679266303|       2|       NULL|  NULL|  NULL|    2|       NULL|          2|       NULL|        NULL|\n",
      "|604033361354162175|       2|       NULL|  NULL|  NULL|    2|       NULL|          2|       NULL|        NULL|\n",
      "|604013036629393407|       4|       NULL|  NULL|  NULL|    4|       NULL|          4|       NULL|        NULL|\n",
      "|604033434771259391|    NULL|       NULL|  NULL|  NULL| NULL|       NULL|       NULL|       NULL|        NULL|\n",
      "|604029749823537151|    NULL|       NULL|  NULL|  NULL| NULL|       NULL|       NULL|       NULL|        NULL|\n",
      "|604033353435316223|       2|       NULL|  NULL|  NULL|    2|       NULL|          2|       NULL|        NULL|\n",
      "|604012647666417663|    NULL|       NULL|  NULL|  NULL| NULL|       NULL|       NULL|       NULL|        NULL|\n",
      "|604012411443216383|       2|       NULL|  NULL|  NULL|    2|       NULL|          2|       NULL|        NULL|\n",
      "|604033641198125055|       2|       NULL|  NULL|  NULL|    2|       NULL|          2|       NULL|        NULL|\n",
      "|604033434905477119|       2|       NULL|  NULL|  NULL|    2|       NULL|          2|       NULL|        NULL|\n",
      "|604012431173222399|       2|       NULL|  NULL|  NULL|    2|       NULL|          2|       NULL|        NULL|\n",
      "|604012636257910783|    NULL|       NULL|  NULL|  NULL| NULL|       NULL|       NULL|       NULL|        NULL|\n",
      "|604012496805691391|       2|       NULL|  NULL|  NULL|    2|       NULL|          2|       NULL|        NULL|\n",
      "|604010507698962431|    NULL|       NULL|  NULL|  NULL| NULL|       NULL|       NULL|       NULL|        NULL|\n",
      "|604033363367428095|       3|       NULL|  NULL|  NULL|    3|       NULL|          3|       NULL|        NULL|\n",
      "|604012535460397055|       2|       NULL|  NULL|  NULL|    2|       NULL|          2|       NULL|        NULL|\n",
      "|604033397324513279|       2|       NULL|  NULL|  NULL|    2|       NULL|          2|       NULL|        NULL|\n",
      "|604012529689034751|       2|       NULL|  NULL|  NULL|    2|       NULL|          2|       NULL|        NULL|\n",
      "|604012713164668927|    NULL|       NULL|  NULL|  NULL| NULL|       NULL|       NULL|       NULL|        NULL|\n",
      "|604033360146202623|    NULL|       NULL|  NULL|  NULL| NULL|       NULL|       NULL|       NULL|        NULL|\n",
      "+------------------+--------+-----------+------+------+-----+-----------+-----------+-----------+------------+\n",
      "only showing top 20 rows\n",
      "\n"
     ]
    },
    {
     "name": "stderr",
     "output_type": "stream",
     "text": [
      "                                                                                \r"
     ]
    }
   ],
   "source": [
    "flood_pivot_df.show()"
   ]
  },
  {
   "cell_type": "code",
   "execution_count": 60,
   "id": "1fedf50b-0ccd-4220-8155-677747406b27",
   "metadata": {
    "execution": {
     "iopub.execute_input": "2025-05-02T14:29:58.264495Z",
     "iopub.status.busy": "2025-05-02T14:29:58.264278Z",
     "iopub.status.idle": "2025-05-02T14:30:14.584466Z",
     "shell.execute_reply": "2025-05-02T14:30:14.583942Z",
     "shell.execute_reply.started": "2025-05-02T14:29:58.264480Z"
    }
   },
   "outputs": [
    {
     "name": "stderr",
     "output_type": "stream",
     "text": [
      "                                                                                \r"
     ]
    },
    {
     "data": {
      "text/plain": [
       "377"
      ]
     },
     "execution_count": 60,
     "metadata": {},
     "output_type": "execute_result"
    }
   ],
   "source": [
    "flood_pivot_df.count()"
   ]
  },
  {
   "cell_type": "code",
   "execution_count": 61,
   "id": "50acd832-a119-481e-ba43-824172e9e965",
   "metadata": {
    "execution": {
     "iopub.execute_input": "2025-05-02T14:30:18.388193Z",
     "iopub.status.busy": "2025-05-02T14:30:18.387992Z",
     "iopub.status.idle": "2025-05-02T14:30:27.792025Z",
     "shell.execute_reply": "2025-05-02T14:30:27.791505Z",
     "shell.execute_reply.started": "2025-05-02T14:30:18.388179Z"
    }
   },
   "outputs": [
    {
     "name": "stderr",
     "output_type": "stream",
     "text": [
      "[Stage 1080:=========================================>             (9 + 3) / 12]\r"
     ]
    },
    {
     "name": "stdout",
     "output_type": "stream",
     "text": [
      "+------------------------+\n",
      "|max(max_landslide_class)|\n",
      "+------------------------+\n",
      "|                     4.0|\n",
      "+------------------------+\n",
      "\n"
     ]
    },
    {
     "name": "stderr",
     "output_type": "stream",
     "text": [
      "                                                                                \r"
     ]
    }
   ],
   "source": [
    "landslide_df.select(expr('MAX(max_landslide_class)')).show()"
   ]
  },
  {
   "cell_type": "code",
   "execution_count": 62,
   "id": "0befdabe-ba5c-4de2-996d-9592626ad315",
   "metadata": {
    "execution": {
     "iopub.execute_input": "2025-05-02T14:30:32.071870Z",
     "iopub.status.busy": "2025-05-02T14:30:32.071651Z",
     "iopub.status.idle": "2025-05-02T14:30:41.500495Z",
     "shell.execute_reply": "2025-05-02T14:30:41.499882Z",
     "shell.execute_reply.started": "2025-05-02T14:30:32.071854Z"
    }
   },
   "outputs": [
    {
     "name": "stderr",
     "output_type": "stream",
     "text": [
      "                                                                                \r"
     ]
    },
    {
     "name": "stdout",
     "output_type": "stream",
     "text": [
      "+------------------------+\n",
      "|min(max_landslide_class)|\n",
      "+------------------------+\n",
      "|                     1.0|\n",
      "+------------------------+\n",
      "\n"
     ]
    }
   ],
   "source": [
    "landslide_df.select(expr('MIN(max_landslide_class)')).show()"
   ]
  },
  {
   "cell_type": "code",
   "execution_count": 63,
   "id": "60064db0-fb3e-473b-b6d6-9b55a3eba808",
   "metadata": {
    "execution": {
     "iopub.execute_input": "2025-05-02T14:30:55.094124Z",
     "iopub.status.busy": "2025-05-02T14:30:55.093809Z",
     "iopub.status.idle": "2025-05-02T14:31:05.928116Z",
     "shell.execute_reply": "2025-05-02T14:31:05.927545Z",
     "shell.execute_reply.started": "2025-05-02T14:30:55.094109Z"
    }
   },
   "outputs": [
    {
     "name": "stderr",
     "output_type": "stream",
     "text": [
      "                                                                                \r"
     ]
    },
    {
     "name": "stdout",
     "output_type": "stream",
     "text": [
      "+----------------+\n",
      "|max(speed_limit)|\n",
      "+----------------+\n",
      "|             140|\n",
      "+----------------+\n",
      "\n"
     ]
    }
   ],
   "source": [
    "enriched_hex_df.select(expr('Max(speed_limit)')).show()"
   ]
  },
  {
   "cell_type": "code",
   "execution_count": null,
   "id": "afab9bf4-700b-404a-9ca6-ec05d349d5b7",
   "metadata": {},
   "outputs": [],
   "source": [
    "enriched_hex_df.select(expr('MIN(speed_limit)')).show()"
   ]
  },
  {
   "cell_type": "code",
   "execution_count": null,
   "id": "d8c4325b-4228-4d38-bf11-be5c1b326481",
   "metadata": {},
   "outputs": [],
   "source": [
    "enriched_hex_df.select(expr('MAX(service_stations)')).show()"
   ]
  },
  {
   "cell_type": "code",
   "execution_count": null,
   "id": "e3bbf5a0-a26d-4527-8229-51a5e045a52b",
   "metadata": {},
   "outputs": [],
   "source": [
    "enriched_hex_df.select(expr('MIN(service_stations)')).show()"
   ]
  },
  {
   "cell_type": "code",
   "execution_count": null,
   "id": "367a1b86-39e8-4155-b69f-54ca02c072a5",
   "metadata": {},
   "outputs": [],
   "source": [
    "enriched_hex_df.select(expr('MAX(res_building)')).show()"
   ]
  },
  {
   "cell_type": "code",
   "execution_count": null,
   "id": "6f8f31c7-b0a8-4f37-bb3c-3e2720667b1e",
   "metadata": {},
   "outputs": [],
   "source": [
    "enriched_hex_df.select(expr('MIN(res_building)')).show()"
   ]
  },
  {
   "cell_type": "code",
   "execution_count": null,
   "id": "c2718930-86a1-4ce3-9065-0b87de1cbfb7",
   "metadata": {},
   "outputs": [],
   "source": [
    "enriched_hex_df.select(expr('MAX(emergency_services)')).show()"
   ]
  },
  {
   "cell_type": "code",
   "execution_count": null,
   "id": "f40ab443-8369-41f7-912b-57688f1a47c0",
   "metadata": {},
   "outputs": [],
   "source": [
    "enriched_hex_df.select(expr('MIN(emergency_services)')).show()"
   ]
  },
  {
   "cell_type": "code",
   "execution_count": null,
   "id": "1ef269f6-2158-4930-9952-b2564f98d813",
   "metadata": {},
   "outputs": [],
   "source": [
    "flood_pivot_df.select(expr('MAX(ten_year)')).show()"
   ]
  },
  {
   "cell_type": "code",
   "execution_count": null,
   "id": "68981af7-44f9-4896-af26-8ceeac17ead2",
   "metadata": {},
   "outputs": [],
   "source": [
    "flood_pivot_df.select(expr('MIN(ten_year)')).show()"
   ]
  },
  {
   "cell_type": "code",
   "execution_count": null,
   "id": "9ee139d9-fb1b-47d4-95b3-0099743a3fc9",
   "metadata": {},
   "outputs": [],
   "source": [
    "flood_pivot_df.select(expr('MAX(twenty_year)')).show()"
   ]
  },
  {
   "cell_type": "code",
   "execution_count": null,
   "id": "9f0dacca-ff20-4a25-8d0b-31ed5d919d61",
   "metadata": {},
   "outputs": [],
   "source": [
    "flood_pivot_df.select(expr('MIN(twenty_year)')).show()"
   ]
  },
  {
   "cell_type": "code",
   "execution_count": null,
   "id": "2c7a1e15-eacb-4fdc-9001-b9ec27f4c104",
   "metadata": {},
   "outputs": [],
   "source": [
    "flood_pivot_df.select(expr('MAX(thirty)')).show()"
   ]
  },
  {
   "cell_type": "code",
   "execution_count": null,
   "id": "861fcc46-321c-4c8c-96be-f67d3f5c0df8",
   "metadata": {},
   "outputs": [],
   "source": [
    "flood_pivot_df.select(expr('MIN(thirty)')).show()"
   ]
  },
  {
   "cell_type": "code",
   "execution_count": null,
   "id": "37f0330d-281e-49f1-95df-a2d7c0cfc1c4",
   "metadata": {},
   "outputs": [],
   "source": [
    "flood_pivot_df.select(expr('MAX(fourty)')).show()"
   ]
  },
  {
   "cell_type": "code",
   "execution_count": null,
   "id": "2328afe8-f257-4d7f-8af8-3885ba4fb742",
   "metadata": {},
   "outputs": [],
   "source": [
    "flood_pivot_df.select(expr('MIN(fourty)')).show()"
   ]
  },
  {
   "cell_type": "code",
   "execution_count": null,
   "id": "efdaad1f-65fc-44fe-b9aa-352f149004d7",
   "metadata": {},
   "outputs": [],
   "source": [
    "flood_pivot_df.select(expr('MAX(fifty)')).show()"
   ]
  },
  {
   "cell_type": "code",
   "execution_count": null,
   "id": "99584bd6-f196-4e8c-8477-adad14cc9b03",
   "metadata": {},
   "outputs": [],
   "source": [
    "flood_pivot_df.select(expr('MIN(fifty)')).show()"
   ]
  },
  {
   "cell_type": "code",
   "execution_count": null,
   "id": "b63f20d6-d700-4218-b0eb-1770278425ec",
   "metadata": {},
   "outputs": [],
   "source": [
    "flood_pivot_df.select(expr('MAX(seventyfive)')).show()"
   ]
  },
  {
   "cell_type": "code",
   "execution_count": null,
   "id": "bb261446-6e0d-4fc9-9cf9-2c56bd27a254",
   "metadata": {},
   "outputs": [],
   "source": [
    "flood_pivot_df.select(expr('MIN(seventyfive)')).show()"
   ]
  },
  {
   "cell_type": "code",
   "execution_count": null,
   "id": "5d027f8c-c174-4807-9c28-b07dc48e7cc1",
   "metadata": {},
   "outputs": [],
   "source": [
    "flood_pivot_df.select(expr('MAX(one_hundred)')).show()"
   ]
  },
  {
   "cell_type": "code",
   "execution_count": null,
   "id": "1b4619d2-6b4c-416b-89f7-0f2a6350e37a",
   "metadata": {},
   "outputs": [],
   "source": [
    "flood_pivot_df.select(expr('MIN(one_hundred)')).show()"
   ]
  },
  {
   "cell_type": "code",
   "execution_count": null,
   "id": "d4f8bedb-2117-444e-aab0-419e1cd17fda",
   "metadata": {},
   "outputs": [],
   "source": [
    "flood_pivot_df.select(expr('MAX(two_hundred)')).show()"
   ]
  },
  {
   "cell_type": "code",
   "execution_count": null,
   "id": "aab040cc-42d0-4d22-a1fa-3f598e4c66f7",
   "metadata": {},
   "outputs": [],
   "source": [
    "flood_pivot_df.select(expr('MIN(two_hundred)')).show()"
   ]
  },
  {
   "cell_type": "code",
   "execution_count": null,
   "id": "b400d277-8bf5-4bab-972e-dbe04782607e",
   "metadata": {},
   "outputs": [],
   "source": [
    "flood_pivot_df.select(expr('MAX(five_hundred)')).show()"
   ]
  },
  {
   "cell_type": "code",
   "execution_count": null,
   "id": "1ca6a040-0c71-45ce-b359-dcf300035353",
   "metadata": {},
   "outputs": [],
   "source": [
    "flood_pivot_df.select(expr('MIN(five_hundred)')).show()"
   ]
  },
  {
   "cell_type": "code",
   "execution_count": 64,
   "id": "09093314-f4eb-4ea0-9e6d-e18b7897d02a",
   "metadata": {
    "execution": {
     "iopub.execute_input": "2025-05-02T14:31:37.642830Z",
     "iopub.status.busy": "2025-05-02T14:31:37.642619Z",
     "iopub.status.idle": "2025-05-02T14:31:45.276476Z",
     "shell.execute_reply": "2025-05-02T14:31:45.276026Z",
     "shell.execute_reply.started": "2025-05-02T14:31:37.642817Z"
    }
   },
   "outputs": [
    {
     "name": "stderr",
     "output_type": "stream",
     "text": [
      "[Stage 1197:==============================================>       (19 + 3) / 22]\r"
     ]
    },
    {
     "name": "stdout",
     "output_type": "stream",
     "text": [
      "CPU times: user 11.1 ms, sys: 114 μs, total: 11.2 ms\n",
      "Wall time: 7.63 s\n"
     ]
    },
    {
     "name": "stderr",
     "output_type": "stream",
     "text": [
      "                                                                                \r"
     ]
    },
    {
     "data": {
      "text/plain": [
       "377"
      ]
     },
     "execution_count": 64,
     "metadata": {},
     "output_type": "execute_result"
    }
   ],
   "source": [
    "%%time\n",
    "combined_df = sedona.sql(\"\"\"\n",
    "SELECT\n",
    "    t1.geometry,\n",
    "    .3 *(COALESCE((t1.res_building - 0) / (21042 -0 ),0)) AS res_building,\n",
    "1 - (.5 *(COALESCE((t1.emergency_services - 0) / (113 - 0),0))) AS emergency_services,\n",
    "1 - (.5 *(COALESCE((t1.service_stations - 0) / (59 - 0),0))) AS service_stations,\n",
    "    .3 *(COALESCE((t1.speed_limit -30 ) / (130 - 30 ),0)) AS speed_limit,\n",
    "    .6 *(COALESCE(1,0)) AS max_landslide_class,\n",
    "    .4 *(COALESCE((t3.ten_year - 0) / (4 - 0),0)) AS ten_flood_point_cnt,\n",
    "    .3 *(COALESCE((t3.twenty_year - 0) / (4 - 0),0)) AS twenty_flood_point_cnt,\n",
    "    .2 *(COALESCE((t3.thirty - 0) / (4 - 0),0)) AS thirty_flood_point_cnt,\n",
    "    .1 *(COALESCE((t3.fourty - 0) / (4 - 0),0)) AS fourty_flood_point_cnt,\n",
    "    .09 *(COALESCE((t3.fifty - 0) / (4 - 0),0)) AS fifty_flood_point_cnt,\n",
    "    .08 *(COALESCE((t3.seventyfive - 0) / (4 - 0),0)) AS seventyfive_flood_point_cnt,\n",
    "    .07 *(COALESCE((t3.one_hundred - 0) / (4 - 0),0)) AS one_hundred_flood_point_cnt,\n",
    "    .06 *(COALESCE((t3.two_hundred - 0) / (4 - 0),0)) AS two_hundred_flood_point_cnt,\n",
    "    .05 *(COALESCE((t3.five_hundred - 0) / (4 - 0),0)) AS five_hundred_flood_point_cnt\n",
    "\n",
    "FROM \n",
    "    enriched_hex t1\n",
    "LEFT JOIN \n",
    "    hex_flood_pivot t3 USING (h3)\n",
    "LEFT JOIN \n",
    "    hex_landslide t4 USING (h3)\n",
    "\n",
    "\"\"\")\n",
    "\n",
    "\n",
    "combined_df = combined_df.repartition(12)\n",
    "combined_df.createOrReplaceTempView('combined_hex')\n",
    "combined_df.count()"
   ]
  },
  {
   "cell_type": "code",
   "execution_count": 65,
   "id": "796d2ea1-f143-424c-984f-15def564f0c3",
   "metadata": {
    "execution": {
     "iopub.execute_input": "2025-05-02T14:31:51.027968Z",
     "iopub.status.busy": "2025-05-02T14:31:51.027741Z",
     "iopub.status.idle": "2025-05-02T14:31:51.071605Z",
     "shell.execute_reply": "2025-05-02T14:31:51.070538Z",
     "shell.execute_reply.started": "2025-05-02T14:31:51.027953Z"
    }
   },
   "outputs": [],
   "source": [
    "final_hex = sedona.sql(\"\"\"\n",
    "\n",
    "SELECT\n",
    "    geometry,\n",
    "res_building+emergency_services+service_stations+speed_limit+max_landslide_class+ten_flood_point_cnt+twenty_flood_point_cnt+thirty_flood_point_cnt+fourty_flood_point_cnt+fifty_flood_point_cnt+seventyfive_flood_point_cnt+one_hundred_flood_point_cnt+two_hundred_flood_point_cnt+five_hundred_flood_point_cnt as risk_score\n",
    "FROM\n",
    "    combined_hex\n",
    "\"\"\")"
   ]
  },
  {
   "cell_type": "code",
   "execution_count": 66,
   "id": "db2d04ed-1451-40eb-9ef6-03167373a54c",
   "metadata": {
    "execution": {
     "iopub.execute_input": "2025-05-02T14:31:56.628402Z",
     "iopub.status.busy": "2025-05-02T14:31:56.627711Z",
     "iopub.status.idle": "2025-05-02T14:31:56.640395Z",
     "shell.execute_reply": "2025-05-02T14:31:56.639835Z",
     "shell.execute_reply.started": "2025-05-02T14:31:56.628379Z"
    }
   },
   "outputs": [],
   "source": [
    "final_hex.createOrReplaceTempView(\"final_risk\")"
   ]
  },
  {
   "cell_type": "code",
   "execution_count": null,
   "id": "fd79e162-a275-429e-ba83-fa69ac6bb5dc",
   "metadata": {
    "execution": {
     "iopub.execute_input": "2025-05-02T14:32:01.196434Z",
     "iopub.status.busy": "2025-05-02T14:32:01.196228Z"
    }
   },
   "outputs": [],
   "source": [
    "final_hex_normal= sedona.sql(\"\"\"\n",
    "SELECT \n",
    "    geometry,\n",
    "    (risk_score - 2.191 ) / (4.25-1.337) as norm_risk_score\n",
    "FROM \n",
    "    final_risk \n",
    "\n",
    "\"\"\")\n",
    "final_hex_normal=final_hex_normal.cache()\n",
    "final_hex_normal.count()"
   ]
  },
  {
   "cell_type": "code",
   "execution_count": null,
   "id": "283581af-e844-488f-b004-a99d16850d04",
   "metadata": {},
   "outputs": [],
   "source": [
    "kepler_map = SedonaKepler.create_map()\n",
    "SedonaKepler.add_df(kepler_map, final_hex_normal, name=\"combined_df\")\n",
    "kepler_map"
   ]
  }
 ],
 "metadata": {
  "kernelspec": {
   "display_name": "Python 3 (ipykernel)",
   "language": "python",
   "name": "python3"
  },
  "language_info": {
   "codemirror_mode": {
    "name": "ipython",
    "version": 3
   },
   "file_extension": ".py",
   "mimetype": "text/x-python",
   "name": "python",
   "nbconvert_exporter": "python",
   "pygments_lexer": "ipython3",
   "version": "3.11.12"
  }
 },
 "nbformat": 4,
 "nbformat_minor": 5
}
